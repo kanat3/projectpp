{
 "cells": [
  {
   "cell_type": "code",
   "execution_count": 1,
   "metadata": {},
   "outputs": [],
   "source": [
    "import pandas as pd\n",
    "import numpy as np\n",
    "#про файл test возраст - ['thirties', 'twenties', 'teens', 'fifties', 'fourties', 'sixties']\n",
    "#пол - 'male', 'female'\n",
    "#про файл train возраст - ['thirties', 'twenties', 'teens', 'fourties']\n",
    "#пол - ['male', 'female']\n",
    "#про файл validate возраст - ['thirties', 'twenties', 'teens', 'fifties', 'fourties', 'sixties']\n",
    "#аол - ['male', 'female', 'other']"
   ]
  },
  {
   "cell_type": "code",
   "execution_count": 39,
   "metadata": {},
   "outputs": [],
   "source": [
    "test = pd.read_csv(r'D:\\test.tsv', sep=\"\\t\", header=0, encoding=\"utf-8\")\n",
    "#читаем файл"
   ]
  },
  {
   "cell_type": "code",
   "execution_count": 40,
   "metadata": {},
   "outputs": [],
   "source": [
    "del test['sentence']\n",
    "del test['up_votes']\n",
    "del test['down_votes']\n",
    "del test['locale']\n",
    "del test['segment']\n",
    "del test['accent']\n",
    "del test['client_id']\n",
    "#удаляем столбцы"
   ]
  },
  {
   "cell_type": "code",
   "execution_count": 41,
   "metadata": {},
   "outputs": [
    {
     "data": {
      "text/html": [
       "<div>\n",
       "<style scoped>\n",
       "    .dataframe tbody tr th:only-of-type {\n",
       "        vertical-align: middle;\n",
       "    }\n",
       "\n",
       "    .dataframe tbody tr th {\n",
       "        vertical-align: top;\n",
       "    }\n",
       "\n",
       "    .dataframe thead th {\n",
       "        text-align: right;\n",
       "    }\n",
       "</style>\n",
       "<table border=\"1\" class=\"dataframe\">\n",
       "  <thead>\n",
       "    <tr style=\"text-align: right;\">\n",
       "      <th></th>\n",
       "      <th>path</th>\n",
       "      <th>age</th>\n",
       "      <th>gender</th>\n",
       "    </tr>\n",
       "  </thead>\n",
       "  <tbody>\n",
       "    <tr>\n",
       "      <th>3</th>\n",
       "      <td>common_voice_ru_19921774.mp3</td>\n",
       "      <td>thirties</td>\n",
       "      <td>male</td>\n",
       "    </tr>\n",
       "    <tr>\n",
       "      <th>4</th>\n",
       "      <td>common_voice_ru_21289707.mp3</td>\n",
       "      <td>twenties</td>\n",
       "      <td>female</td>\n",
       "    </tr>\n",
       "    <tr>\n",
       "      <th>8</th>\n",
       "      <td>common_voice_ru_21565172.mp3</td>\n",
       "      <td>twenties</td>\n",
       "      <td>male</td>\n",
       "    </tr>\n",
       "    <tr>\n",
       "      <th>9</th>\n",
       "      <td>common_voice_ru_20209182.mp3</td>\n",
       "      <td>thirties</td>\n",
       "      <td>male</td>\n",
       "    </tr>\n",
       "    <tr>\n",
       "      <th>10</th>\n",
       "      <td>common_voice_ru_20664775.mp3</td>\n",
       "      <td>twenties</td>\n",
       "      <td>male</td>\n",
       "    </tr>\n",
       "    <tr>\n",
       "      <th>...</th>\n",
       "      <td>...</td>\n",
       "      <td>...</td>\n",
       "      <td>...</td>\n",
       "    </tr>\n",
       "    <tr>\n",
       "      <th>330</th>\n",
       "      <td>common_voice_ru_20142981.mp3</td>\n",
       "      <td>twenties</td>\n",
       "      <td>male</td>\n",
       "    </tr>\n",
       "    <tr>\n",
       "      <th>331</th>\n",
       "      <td>common_voice_ru_20142983.mp3</td>\n",
       "      <td>twenties</td>\n",
       "      <td>male</td>\n",
       "    </tr>\n",
       "    <tr>\n",
       "      <th>332</th>\n",
       "      <td>common_voice_ru_20142982.mp3</td>\n",
       "      <td>twenties</td>\n",
       "      <td>male</td>\n",
       "    </tr>\n",
       "    <tr>\n",
       "      <th>333</th>\n",
       "      <td>common_voice_ru_20142985.mp3</td>\n",
       "      <td>twenties</td>\n",
       "      <td>male</td>\n",
       "    </tr>\n",
       "    <tr>\n",
       "      <th>338</th>\n",
       "      <td>common_voice_ru_19950549.mp3</td>\n",
       "      <td>twenties</td>\n",
       "      <td>male</td>\n",
       "    </tr>\n",
       "  </tbody>\n",
       "</table>\n",
       "<p>100 rows × 3 columns</p>\n",
       "</div>"
      ],
      "text/plain": [
       "                             path       age  gender\n",
       "3    common_voice_ru_19921774.mp3  thirties    male\n",
       "4    common_voice_ru_21289707.mp3  twenties  female\n",
       "8    common_voice_ru_21565172.mp3  twenties    male\n",
       "9    common_voice_ru_20209182.mp3  thirties    male\n",
       "10   common_voice_ru_20664775.mp3  twenties    male\n",
       "..                            ...       ...     ...\n",
       "330  common_voice_ru_20142981.mp3  twenties    male\n",
       "331  common_voice_ru_20142983.mp3  twenties    male\n",
       "332  common_voice_ru_20142982.mp3  twenties    male\n",
       "333  common_voice_ru_20142985.mp3  twenties    male\n",
       "338  common_voice_ru_19950549.mp3  twenties    male\n",
       "\n",
       "[100 rows x 3 columns]"
      ]
     },
     "execution_count": 41,
     "metadata": {},
     "output_type": "execute_result"
    }
   ],
   "source": [
    "test = test.dropna(axis = 0, how = 'any')\n",
    "test = test[test[\"gender\"] != 'other']\n",
    "test.head(100)\n",
    "#удаляем все строки, у которых в столбцах есть NaN, и удаляем пол 'other'"
   ]
  },
  {
   "cell_type": "code",
   "execution_count": 42,
   "metadata": {},
   "outputs": [
    {
     "data": {
      "text/plain": [
       "array(['male', 'female'], dtype=object)"
      ]
     },
     "execution_count": 42,
     "metadata": {},
     "output_type": "execute_result"
    }
   ],
   "source": [
    "test[\"gender\"].unique()"
   ]
  },
  {
   "cell_type": "code",
   "execution_count": 43,
   "metadata": {},
   "outputs": [
    {
     "data": {
      "text/plain": [
       "array(['thirties', 'twenties', 'teens', 'fifties', 'fourties', 'sixties'],\n",
       "      dtype=object)"
      ]
     },
     "execution_count": 43,
     "metadata": {},
     "output_type": "execute_result"
    }
   ],
   "source": [
    "test[\"age\"].unique()"
   ]
  },
  {
   "cell_type": "code",
   "execution_count": 44,
   "metadata": {},
   "outputs": [
    {
     "name": "stdout",
     "output_type": "stream",
     "text": [
      "<class 'pandas.core.frame.DataFrame'>\n",
      "Int64Index: 4383 entries, 3 to 7306\n",
      "Data columns (total 3 columns):\n",
      " #   Column  Non-Null Count  Dtype \n",
      "---  ------  --------------  ----- \n",
      " 0   path    4383 non-null   object\n",
      " 1   age     4383 non-null   object\n",
      " 2   gender  4383 non-null   object\n",
      "dtypes: object(3)\n",
      "memory usage: 137.0+ KB\n"
     ]
    }
   ],
   "source": [
    "test.info()"
   ]
  },
  {
   "cell_type": "code",
   "execution_count": 45,
   "metadata": {},
   "outputs": [],
   "source": [
    "test.to_csv('D:/test.csv', index=False)\n",
    "#сохраняем файл в csv без индексов "
   ]
  },
  {
   "cell_type": "code",
   "execution_count": 46,
   "metadata": {},
   "outputs": [],
   "source": [
    "train = pd.read_csv(r'D:\\train.tsv', sep=\"\\t\", header=0, encoding=\"utf-8\")\n",
    "#читаем файл"
   ]
  },
  {
   "cell_type": "code",
   "execution_count": 47,
   "metadata": {},
   "outputs": [],
   "source": [
    "del train['sentence']\n",
    "del train['up_votes']\n",
    "del train['down_votes']\n",
    "del train['locale']\n",
    "del train['segment']\n",
    "del train['accent']\n",
    "del train['client_id']\n",
    "#удаляем столбцы"
   ]
  },
  {
   "cell_type": "code",
   "execution_count": 48,
   "metadata": {},
   "outputs": [
    {
     "data": {
      "text/html": [
       "<div>\n",
       "<style scoped>\n",
       "    .dataframe tbody tr th:only-of-type {\n",
       "        vertical-align: middle;\n",
       "    }\n",
       "\n",
       "    .dataframe tbody tr th {\n",
       "        vertical-align: top;\n",
       "    }\n",
       "\n",
       "    .dataframe thead th {\n",
       "        text-align: right;\n",
       "    }\n",
       "</style>\n",
       "<table border=\"1\" class=\"dataframe\">\n",
       "  <thead>\n",
       "    <tr style=\"text-align: right;\">\n",
       "      <th></th>\n",
       "      <th>path</th>\n",
       "      <th>age</th>\n",
       "      <th>gender</th>\n",
       "    </tr>\n",
       "  </thead>\n",
       "  <tbody>\n",
       "    <tr>\n",
       "      <th>0</th>\n",
       "      <td>common_voice_ru_19341452.mp3</td>\n",
       "      <td>thirties</td>\n",
       "      <td>male</td>\n",
       "    </tr>\n",
       "    <tr>\n",
       "      <th>1</th>\n",
       "      <td>common_voice_ru_19341448.mp3</td>\n",
       "      <td>thirties</td>\n",
       "      <td>male</td>\n",
       "    </tr>\n",
       "    <tr>\n",
       "      <th>2</th>\n",
       "      <td>common_voice_ru_19341450.mp3</td>\n",
       "      <td>thirties</td>\n",
       "      <td>male</td>\n",
       "    </tr>\n",
       "    <tr>\n",
       "      <th>3</th>\n",
       "      <td>common_voice_ru_19341456.mp3</td>\n",
       "      <td>thirties</td>\n",
       "      <td>male</td>\n",
       "    </tr>\n",
       "    <tr>\n",
       "      <th>4</th>\n",
       "      <td>common_voice_ru_19341451.mp3</td>\n",
       "      <td>thirties</td>\n",
       "      <td>male</td>\n",
       "    </tr>\n",
       "    <tr>\n",
       "      <th>...</th>\n",
       "      <td>...</td>\n",
       "      <td>...</td>\n",
       "      <td>...</td>\n",
       "    </tr>\n",
       "    <tr>\n",
       "      <th>95</th>\n",
       "      <td>common_voice_ru_19348193.mp3</td>\n",
       "      <td>thirties</td>\n",
       "      <td>male</td>\n",
       "    </tr>\n",
       "    <tr>\n",
       "      <th>96</th>\n",
       "      <td>common_voice_ru_19348204.mp3</td>\n",
       "      <td>thirties</td>\n",
       "      <td>male</td>\n",
       "    </tr>\n",
       "    <tr>\n",
       "      <th>97</th>\n",
       "      <td>common_voice_ru_19348199.mp3</td>\n",
       "      <td>thirties</td>\n",
       "      <td>male</td>\n",
       "    </tr>\n",
       "    <tr>\n",
       "      <th>98</th>\n",
       "      <td>common_voice_ru_19348201.mp3</td>\n",
       "      <td>thirties</td>\n",
       "      <td>male</td>\n",
       "    </tr>\n",
       "    <tr>\n",
       "      <th>99</th>\n",
       "      <td>common_voice_ru_19348210.mp3</td>\n",
       "      <td>thirties</td>\n",
       "      <td>male</td>\n",
       "    </tr>\n",
       "  </tbody>\n",
       "</table>\n",
       "<p>100 rows × 3 columns</p>\n",
       "</div>"
      ],
      "text/plain": [
       "                            path       age gender\n",
       "0   common_voice_ru_19341452.mp3  thirties   male\n",
       "1   common_voice_ru_19341448.mp3  thirties   male\n",
       "2   common_voice_ru_19341450.mp3  thirties   male\n",
       "3   common_voice_ru_19341456.mp3  thirties   male\n",
       "4   common_voice_ru_19341451.mp3  thirties   male\n",
       "..                           ...       ...    ...\n",
       "95  common_voice_ru_19348193.mp3  thirties   male\n",
       "96  common_voice_ru_19348204.mp3  thirties   male\n",
       "97  common_voice_ru_19348199.mp3  thirties   male\n",
       "98  common_voice_ru_19348201.mp3  thirties   male\n",
       "99  common_voice_ru_19348210.mp3  thirties   male\n",
       "\n",
       "[100 rows x 3 columns]"
      ]
     },
     "execution_count": 48,
     "metadata": {},
     "output_type": "execute_result"
    }
   ],
   "source": [
    "train = train.dropna(axis = 0, how = 'any')\n",
    "train = train[train[\"gender\"] != 'other']\n",
    "#удаляем все строки, у которых в столбцах есть NaN\n",
    "train.head(100)"
   ]
  },
  {
   "cell_type": "code",
   "execution_count": 49,
   "metadata": {},
   "outputs": [
    {
     "data": {
      "text/plain": [
       "array(['male', 'female'], dtype=object)"
      ]
     },
     "execution_count": 49,
     "metadata": {},
     "output_type": "execute_result"
    }
   ],
   "source": [
    "train[\"gender\"].unique()"
   ]
  },
  {
   "cell_type": "code",
   "execution_count": 50,
   "metadata": {},
   "outputs": [
    {
     "data": {
      "text/plain": [
       "array(['thirties', 'twenties', 'teens', 'fourties'], dtype=object)"
      ]
     },
     "execution_count": 50,
     "metadata": {},
     "output_type": "execute_result"
    }
   ],
   "source": [
    "train[\"age\"].unique()"
   ]
  },
  {
   "cell_type": "code",
   "execution_count": 51,
   "metadata": {},
   "outputs": [
    {
     "name": "stdout",
     "output_type": "stream",
     "text": [
      "<class 'pandas.core.frame.DataFrame'>\n",
      "Int64Index: 13189 entries, 0 to 13188\n",
      "Data columns (total 3 columns):\n",
      " #   Column  Non-Null Count  Dtype \n",
      "---  ------  --------------  ----- \n",
      " 0   path    13189 non-null  object\n",
      " 1   age     13189 non-null  object\n",
      " 2   gender  13189 non-null  object\n",
      "dtypes: object(3)\n",
      "memory usage: 412.2+ KB\n"
     ]
    }
   ],
   "source": [
    "train.info()\n",
    "#смотрим информацию по таблице"
   ]
  },
  {
   "cell_type": "code",
   "execution_count": 52,
   "metadata": {},
   "outputs": [],
   "source": [
    "train.to_csv('D:/train.csv', index=False)\n",
    "#сохраняем файл в csv без индексов "
   ]
  },
  {
   "cell_type": "code",
   "execution_count": 59,
   "metadata": {},
   "outputs": [],
   "source": [
    "validated = pd.read_csv(r'D:\\validated.tsv', sep=\"\\t\", header=0, encoding=\"utf-8\", low_memory=False)\n",
    "#читаем файл"
   ]
  },
  {
   "cell_type": "code",
   "execution_count": 60,
   "metadata": {},
   "outputs": [],
   "source": [
    "del validated['sentence']\n",
    "del validated['up_votes']\n",
    "del validated['down_votes']\n",
    "del validated['locale']\n",
    "del validated['segment']\n",
    "del validated['accent']\n",
    "del validated['client_id']\n",
    "#удаляем столбцы"
   ]
  },
  {
   "cell_type": "code",
   "execution_count": 61,
   "metadata": {},
   "outputs": [
    {
     "data": {
      "text/html": [
       "<div>\n",
       "<style scoped>\n",
       "    .dataframe tbody tr th:only-of-type {\n",
       "        vertical-align: middle;\n",
       "    }\n",
       "\n",
       "    .dataframe tbody tr th {\n",
       "        vertical-align: top;\n",
       "    }\n",
       "\n",
       "    .dataframe thead th {\n",
       "        text-align: right;\n",
       "    }\n",
       "</style>\n",
       "<table border=\"1\" class=\"dataframe\">\n",
       "  <thead>\n",
       "    <tr style=\"text-align: right;\">\n",
       "      <th></th>\n",
       "      <th>path</th>\n",
       "      <th>age</th>\n",
       "      <th>gender</th>\n",
       "    </tr>\n",
       "  </thead>\n",
       "  <tbody>\n",
       "    <tr>\n",
       "      <th>3</th>\n",
       "      <td>common_voice_ru_19921774.mp3</td>\n",
       "      <td>thirties</td>\n",
       "      <td>male</td>\n",
       "    </tr>\n",
       "    <tr>\n",
       "      <th>4</th>\n",
       "      <td>common_voice_ru_21289707.mp3</td>\n",
       "      <td>twenties</td>\n",
       "      <td>female</td>\n",
       "    </tr>\n",
       "    <tr>\n",
       "      <th>8</th>\n",
       "      <td>common_voice_ru_21565172.mp3</td>\n",
       "      <td>twenties</td>\n",
       "      <td>male</td>\n",
       "    </tr>\n",
       "    <tr>\n",
       "      <th>9</th>\n",
       "      <td>common_voice_ru_20209182.mp3</td>\n",
       "      <td>thirties</td>\n",
       "      <td>male</td>\n",
       "    </tr>\n",
       "    <tr>\n",
       "      <th>10</th>\n",
       "      <td>common_voice_ru_20664775.mp3</td>\n",
       "      <td>twenties</td>\n",
       "      <td>male</td>\n",
       "    </tr>\n",
       "    <tr>\n",
       "      <th>...</th>\n",
       "      <td>...</td>\n",
       "      <td>...</td>\n",
       "      <td>...</td>\n",
       "    </tr>\n",
       "    <tr>\n",
       "      <th>334</th>\n",
       "      <td>common_voice_ru_19182808.mp3</td>\n",
       "      <td>twenties</td>\n",
       "      <td>male</td>\n",
       "    </tr>\n",
       "    <tr>\n",
       "      <th>339</th>\n",
       "      <td>common_voice_ru_20142981.mp3</td>\n",
       "      <td>twenties</td>\n",
       "      <td>male</td>\n",
       "    </tr>\n",
       "    <tr>\n",
       "      <th>340</th>\n",
       "      <td>common_voice_ru_20142983.mp3</td>\n",
       "      <td>twenties</td>\n",
       "      <td>male</td>\n",
       "    </tr>\n",
       "    <tr>\n",
       "      <th>341</th>\n",
       "      <td>common_voice_ru_20142982.mp3</td>\n",
       "      <td>twenties</td>\n",
       "      <td>male</td>\n",
       "    </tr>\n",
       "    <tr>\n",
       "      <th>342</th>\n",
       "      <td>common_voice_ru_20142985.mp3</td>\n",
       "      <td>twenties</td>\n",
       "      <td>male</td>\n",
       "    </tr>\n",
       "  </tbody>\n",
       "</table>\n",
       "<p>100 rows × 3 columns</p>\n",
       "</div>"
      ],
      "text/plain": [
       "                             path       age  gender\n",
       "3    common_voice_ru_19921774.mp3  thirties    male\n",
       "4    common_voice_ru_21289707.mp3  twenties  female\n",
       "8    common_voice_ru_21565172.mp3  twenties    male\n",
       "9    common_voice_ru_20209182.mp3  thirties    male\n",
       "10   common_voice_ru_20664775.mp3  twenties    male\n",
       "..                            ...       ...     ...\n",
       "334  common_voice_ru_19182808.mp3  twenties    male\n",
       "339  common_voice_ru_20142981.mp3  twenties    male\n",
       "340  common_voice_ru_20142983.mp3  twenties    male\n",
       "341  common_voice_ru_20142982.mp3  twenties    male\n",
       "342  common_voice_ru_20142985.mp3  twenties    male\n",
       "\n",
       "[100 rows x 3 columns]"
      ]
     },
     "execution_count": 61,
     "metadata": {},
     "output_type": "execute_result"
    }
   ],
   "source": [
    "validated = validated.dropna(axis = 0, how = 'any')\n",
    "validated = validated[validated[\"gender\"] != 'other']\n",
    "#удаляем все строки, у которых в столбцах есть NaN\n",
    "validated.head(100)"
   ]
  },
  {
   "cell_type": "code",
   "execution_count": 62,
   "metadata": {},
   "outputs": [
    {
     "data": {
      "text/plain": [
       "array(['male', 'female'], dtype=object)"
      ]
     },
     "execution_count": 62,
     "metadata": {},
     "output_type": "execute_result"
    }
   ],
   "source": [
    "validated[\"gender\"].unique()"
   ]
  },
  {
   "cell_type": "code",
   "execution_count": 63,
   "metadata": {},
   "outputs": [
    {
     "data": {
      "text/plain": [
       "array(['thirties', 'twenties', 'teens', 'fifties', 'fourties', 'sixties'],\n",
       "      dtype=object)"
      ]
     },
     "execution_count": 63,
     "metadata": {},
     "output_type": "execute_result"
    }
   ],
   "source": [
    "validated[\"age\"].unique()"
   ]
  },
  {
   "cell_type": "code",
   "execution_count": 64,
   "metadata": {},
   "outputs": [
    {
     "name": "stdout",
     "output_type": "stream",
     "text": [
      "<class 'pandas.core.frame.DataFrame'>\n",
      "Int64Index: 63676 entries, 3 to 69509\n",
      "Data columns (total 3 columns):\n",
      " #   Column  Non-Null Count  Dtype \n",
      "---  ------  --------------  ----- \n",
      " 0   path    63676 non-null  object\n",
      " 1   age     63676 non-null  object\n",
      " 2   gender  63676 non-null  object\n",
      "dtypes: object(3)\n",
      "memory usage: 1.9+ MB\n"
     ]
    }
   ],
   "source": [
    "validated.info()"
   ]
  },
  {
   "cell_type": "code",
   "execution_count": 65,
   "metadata": {},
   "outputs": [],
   "source": [
    "validated.to_csv('D:/validated.csv', index=False)\n",
    "#сохраняем файл в csv без индексов "
   ]
  },
  {
   "cell_type": "code",
   "execution_count": null,
   "metadata": {},
   "outputs": [],
   "source": []
  }
 ],
 "metadata": {
  "kernelspec": {
   "display_name": "Python 3",
   "language": "python",
   "name": "python3"
  },
  "language_info": {
   "codemirror_mode": {
    "name": "ipython",
    "version": 3
   },
   "file_extension": ".py",
   "mimetype": "text/x-python",
   "name": "python",
   "nbconvert_exporter": "python",
   "pygments_lexer": "ipython3",
   "version": "3.7.9"
  }
 },
 "nbformat": 4,
 "nbformat_minor": 4
}
