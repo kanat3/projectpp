{
 "cells": [
  {
   "cell_type": "code",
   "execution_count": 1,
   "metadata": {},
   "outputs": [],
   "source": [
    "import os\n",
    "from os import path\n",
    "from pydub import AudioSegment"
   ]
  },
  {
   "cell_type": "code",
   "execution_count": null,
   "metadata": {},
   "outputs": [],
   "source": [
    "#TRAIN PATH\n",
    "#загружаем все имена файлов в files формата 'name.mp3'\n",
    "directory = r'D:\\data_ready\\train\\gender\\female'\n",
    "files = os.listdir(directory)\n",
    "for k in range (0,19999):\n",
    "  files[k] = files[k].replace(\".mp3\", \"\")\n",
    "  src = \"{}{}{}\".format(\"D:/data_ready/train/gender/female/\", files[k], \".mp3\")\n",
    "  dst = \"{}{}{}\".format(\"D:/data_ready_wav/train/gender/female/\", files[k], \".wav\")\n",
    "  # convert wav to mp3 \n",
    "  sound = AudioSegment.from_mp3(src)\n",
    "  sound.export(dst, format=\"wav\")"
   ]
  },
  {
   "cell_type": "code",
   "execution_count": null,
   "metadata": {},
   "outputs": [],
   "source": [
    "directory = r'D:\\data_ready\\train\\gender\\male'\n",
    "files = os.listdir(directory)\n",
    "for k in range (0,19999):\n",
    "  files[k] = files[k].replace(\".mp3\", \"\")\n",
    "  src = \"{}{}{}\".format(\"D:/data_ready/train/gender/male/\", files[k], \".mp3\")\n",
    "  dst = \"{}{}{}\".format(\"D:/data_ready_wav/train/gender/male/\", files[k], \".wav\")\n",
    "  # convert wav to mp3 \n",
    "  sound = AudioSegment.from_mp3(src)\n",
    "  sound.export(dst, format=\"wav\")"
   ]
  },
  {
   "cell_type": "code",
   "execution_count": null,
   "metadata": {},
   "outputs": [],
   "source": [
    "#AGE\n",
    "#train >> age\n",
    "directory = r'D:\\data_ready\\train\\age\\female\\female_fifties'\n",
    "files = os.listdir(directory)\n",
    "for k in range (0,5999):\n",
    "  files[k] = files[k].replace(\".mp3\", \"\")\n",
    "  src = \"{}{}{}\".format(\"D:/data_ready/train/age/female/female_fifties/\", files[k], \".mp3\")\n",
    "  dst = \"{}{}{}\".format(\"D:/data_ready_wav/train/age/female/female_fifties/\", files[k], \".wav\")\n",
    "  # convert wav to mp3 \n",
    "  sound = AudioSegment.from_mp3(src)\n",
    "  sound.export(dst, format=\"wav\")"
   ]
  },
  {
   "cell_type": "code",
   "execution_count": null,
   "metadata": {},
   "outputs": [],
   "source": [
    "directory = r'D:\\data_ready\\train\\age\\male\\male_fifties'\n",
    "files = os.listdir(directory)\n",
    "for k in range (0,5999):\n",
    "  files[k] = files[k].replace(\".mp3\", \"\")\n",
    "  src = \"{}{}{}\".format(\"D:/data_ready/train/age/male/male_fifties/\", files[k], \".mp3\")\n",
    "  dst = \"{}{}{}\".format(\"D:/data_ready_wav/train/age/male/male_fifties/\", files[k], \".wav\")\n",
    "  # convert wav to mp3 \n",
    "  sound = AudioSegment.from_mp3(src)\n",
    "  sound.export(dst, format=\"wav\")"
   ]
  },
  {
   "cell_type": "code",
   "execution_count": null,
   "metadata": {},
   "outputs": [],
   "source": [
    "directory = r'D:\\data_ready\\train\\age\\female\\female_fourties'\n",
    "files = os.listdir(directory)\n",
    "for k in range (0,6000):\n",
    "  files[k] = files[k].replace(\".mp3\", \"\")\n",
    "  src = \"{}{}{}\".format(\"D:/data_ready/train/age/female/female_fourties/\", files[k], \".mp3\")\n",
    "  dst = \"{}{}{}\".format(\"D:/data_ready_wav/train/age/female/female_fourties/\", files[k], \".wav\")\n",
    "  # convert wav to mp3 \n",
    "  sound = AudioSegment.from_mp3(src)\n",
    "  sound.export(dst, format=\"wav\")"
   ]
  },
  {
   "cell_type": "code",
   "execution_count": null,
   "metadata": {},
   "outputs": [],
   "source": [
    "directory = r'D:\\data_ready\\train\\age\\male\\male_fourties'\n",
    "files = os.listdir(directory)\n",
    "for k in range (0,6000):\n",
    "  files[k] = files[k].replace(\".mp3\", \"\")\n",
    "  src = \"{}{}{}\".format(\"D:/data_ready/train/age/male/male_fourties/\", files[k], \".mp3\")\n",
    "  dst = \"{}{}{}\".format(\"D:/data_ready_wav/train/age/male/male_fourties/\", files[k], \".wav\")\n",
    "  # convert wav to mp3 \n",
    "  sound = AudioSegment.from_mp3(src)\n",
    "  sound.export(dst, format=\"wav\")"
   ]
  },
  {
   "cell_type": "code",
   "execution_count": null,
   "metadata": {},
   "outputs": [],
   "source": [
    "directory = r'D:\\data_ready\\train\\age\\female\\female_seventies'\n",
    "files = os.listdir(directory)\n",
    "for k in range (0,5999):\n",
    "  files[k] = files[k].replace(\".mp3\", \"\")\n",
    "  src = \"{}{}{}\".format(\"D:/data_ready/train/age/female/female_seventies/\", files[k], \".mp3\")\n",
    "  dst = \"{}{}{}\".format(\"D:/data_ready_wav/train/age/female/female_seventies/\", files[k], \".wav\")\n",
    "  # convert wav to mp3 \n",
    "  sound = AudioSegment.from_mp3(src)\n",
    "  sound.export(dst, format=\"wav\")"
   ]
  },
  {
   "cell_type": "code",
   "execution_count": null,
   "metadata": {},
   "outputs": [],
   "source": [
    "directory = r'D:\\data_ready\\train\\age\\male\\male_seventies'\n",
    "files = os.listdir(directory)\n",
    "for k in range (0,6000):\n",
    "  files[k] = files[k].replace(\".mp3\", \"\")\n",
    "  src = \"{}{}{}\".format(\"D:/data_ready/train/age/male/male_seventies/\", files[k], \".mp3\")\n",
    "  dst = \"{}{}{}\".format(\"D:/data_ready_wav/train/age/male/male_seventies/\", files[k], \".wav\")\n",
    "  # convert wav to mp3 \n",
    "  sound = AudioSegment.from_mp3(src)\n",
    "  sound.export(dst, format=\"wav\")"
   ]
  },
  {
   "cell_type": "code",
   "execution_count": 2,
   "metadata": {},
   "outputs": [],
   "source": [
    "directory = r'D:\\data_ready\\train\\age\\female\\female_sixties'\n",
    "files = os.listdir(directory)\n",
    "for k in range (0,6000):\n",
    "  files[k] = files[k].replace(\".mp3\", \"\")\n",
    "  src = \"{}{}{}\".format(\"D:/data_ready/train/age/female/female_sixties/\", files[k], \".mp3\")\n",
    "  dst = \"{}{}{}\".format(\"D:/data_ready_wav/train/age/female/female_sixties/\", files[k], \".wav\")\n",
    "  # convert wav to mp3 \n",
    "  sound = AudioSegment.from_mp3(src)\n",
    "  sound.export(dst, format=\"wav\")"
   ]
  },
  {
   "cell_type": "code",
   "execution_count": 3,
   "metadata": {},
   "outputs": [],
   "source": [
    "directory = r'D:\\data_ready\\train\\age\\male\\male_sixties'\n",
    "files = os.listdir(directory)\n",
    "for k in range (0,6000):\n",
    "  files[k] = files[k].replace(\".mp3\", \"\")\n",
    "  src = \"{}{}{}\".format(\"D:/data_ready/train/age/male/male_sixties/\", files[k], \".mp3\")\n",
    "  dst = \"{}{}{}\".format(\"D:/data_ready_wav/train/age/male/male_sixties/\", files[k], \".wav\")\n",
    "  # convert wav to mp3 \n",
    "  sound = AudioSegment.from_mp3(src)\n",
    "  sound.export(dst, format=\"wav\")"
   ]
  },
  {
   "cell_type": "code",
   "execution_count": 4,
   "metadata": {},
   "outputs": [],
   "source": [
    "directory = r'D:\\data_ready\\train\\age\\female\\female_teens'\n",
    "files = os.listdir(directory)\n",
    "for k in range (0,6000):\n",
    "  files[k] = files[k].replace(\".mp3\", \"\")\n",
    "  src = \"{}{}{}\".format(\"D:/data_ready/train/age/female/female_teens/\", files[k], \".mp3\")\n",
    "  dst = \"{}{}{}\".format(\"D:/data_ready_wav/train/age/female/female_teens/\", files[k], \".wav\")\n",
    "  # convert wav to mp3 \n",
    "  sound = AudioSegment.from_mp3(src)\n",
    "  sound.export(dst, format=\"wav\")"
   ]
  },
  {
   "cell_type": "code",
   "execution_count": 5,
   "metadata": {},
   "outputs": [],
   "source": [
    "directory = r'D:\\data_ready\\train\\age\\male\\male_teens'\n",
    "files = os.listdir(directory)\n",
    "for k in range (0,6000):\n",
    "  files[k] = files[k].replace(\".mp3\", \"\")\n",
    "  src = \"{}{}{}\".format(\"D:/data_ready/train/age/male/male_teens/\", files[k], \".mp3\")\n",
    "  dst = \"{}{}{}\".format(\"D:/data_ready_wav/train/age/male/male_teens/\", files[k], \".wav\")\n",
    "  # convert wav to mp3 \n",
    "  sound = AudioSegment.from_mp3(src)\n",
    "  sound.export(dst, format=\"wav\")"
   ]
  },
  {
   "cell_type": "code",
   "execution_count": 6,
   "metadata": {},
   "outputs": [],
   "source": [
    "directory = r'D:\\data_ready\\train\\age\\female\\female_thirties'\n",
    "files = os.listdir(directory)\n",
    "for k in range (0,6000):\n",
    "  files[k] = files[k].replace(\".mp3\", \"\")\n",
    "  src = \"{}{}{}\".format(\"D:/data_ready/train/age/female/female_thirties/\", files[k], \".mp3\")\n",
    "  dst = \"{}{}{}\".format(\"D:/data_ready_wav/train/age/female/female_thirties/\", files[k], \".wav\")\n",
    "  # convert wav to mp3 \n",
    "  sound = AudioSegment.from_mp3(src)\n",
    "  sound.export(dst, format=\"wav\")"
   ]
  },
  {
   "cell_type": "code",
   "execution_count": 7,
   "metadata": {},
   "outputs": [],
   "source": [
    "directory = r'D:\\data_ready\\train\\age\\male\\male_thirties'\n",
    "files = os.listdir(directory)\n",
    "for k in range (0,6000):\n",
    "  files[k] = files[k].replace(\".mp3\", \"\")\n",
    "  src = \"{}{}{}\".format(\"D:/data_ready/train/age/male/male_thirties/\", files[k], \".mp3\")\n",
    "  dst = \"{}{}{}\".format(\"D:/data_ready_wav/train/age/male/male_thirties/\", files[k], \".wav\")\n",
    "  # convert wav to mp3 \n",
    "  sound = AudioSegment.from_mp3(src)\n",
    "  sound.export(dst, format=\"wav\")"
   ]
  },
  {
   "cell_type": "code",
   "execution_count": 8,
   "metadata": {},
   "outputs": [],
   "source": [
    "directory = r'D:\\data_ready\\train\\age\\female\\female_twenties'\n",
    "files = os.listdir(directory)\n",
    "for k in range (0,6000):\n",
    "  files[k] = files[k].replace(\".mp3\", \"\")\n",
    "  src = \"{}{}{}\".format(\"D:/data_ready/train/age/female/female_twenties/\", files[k], \".mp3\")\n",
    "  dst = \"{}{}{}\".format(\"D:/data_ready_wav/train/age/female/female_twenties/\", files[k], \".wav\")\n",
    "  # convert wav to mp3 \n",
    "  sound = AudioSegment.from_mp3(src)\n",
    "  sound.export(dst, format=\"wav\")"
   ]
  },
  {
   "cell_type": "code",
   "execution_count": 9,
   "metadata": {},
   "outputs": [],
   "source": [
    "directory = r'D:\\data_ready\\train\\age\\male\\male_twenties'\n",
    "files = os.listdir(directory)\n",
    "for k in range (0,6000):\n",
    "  files[k] = files[k].replace(\".mp3\", \"\")\n",
    "  src = \"{}{}{}\".format(\"D:/data_ready/train/age/male/male_twenties/\", files[k], \".mp3\")\n",
    "  dst = \"{}{}{}\".format(\"D:/data_ready_wav/train/age/male/male_twenties/\", files[k], \".wav\")\n",
    "  # convert wav to mp3 \n",
    "  sound = AudioSegment.from_mp3(src)\n",
    "  sound.export(dst, format=\"wav\")"
   ]
  },
  {
   "cell_type": "code",
   "execution_count": 10,
   "metadata": {},
   "outputs": [],
   "source": [
    "#TEST PATH\n",
    "#загружаем все имена файлов в files формата 'name.mp3'\n",
    "directory = r'D:\\data_ready\\test\\gender\\female'\n",
    "files = os.listdir(directory)\n",
    "for k in range (0,2000):\n",
    "  files[k] = files[k].replace(\".mp3\", \"\")\n",
    "  src = \"{}{}{}\".format(\"D:/data_ready/test/gender/female/\", files[k], \".mp3\")\n",
    "  dst = \"{}{}{}\".format(\"D:/data_ready_wav/test/gender/female/\", files[k], \".wav\")\n",
    "  # convert wav to mp3 \n",
    "  sound = AudioSegment.from_mp3(src)\n",
    "  sound.export(dst, format=\"wav\")"
   ]
  },
  {
   "cell_type": "code",
   "execution_count": 11,
   "metadata": {},
   "outputs": [],
   "source": [
    "directory = r'D:\\data_ready\\test\\gender\\male'\n",
    "files = os.listdir(directory)\n",
    "for k in range (0,2000):\n",
    "  files[k] = files[k].replace(\".mp3\", \"\")\n",
    "  src = \"{}{}{}\".format(\"D:/data_ready/test/gender/male/\", files[k], \".mp3\")\n",
    "  dst = \"{}{}{}\".format(\"D:/data_ready_wav/test/gender/male/\", files[k], \".wav\")\n",
    "  # convert wav to mp3 \n",
    "  sound = AudioSegment.from_mp3(src)\n",
    "  sound.export(dst, format=\"wav\")"
   ]
  },
  {
   "cell_type": "code",
   "execution_count": 12,
   "metadata": {},
   "outputs": [],
   "source": [
    "#AGE\n",
    "#train >> age\n",
    "directory = r'D:\\data_ready\\test\\age\\female\\female_fifties'\n",
    "files = os.listdir(directory)\n",
    "for k in range (0,1000):\n",
    "  files[k] = files[k].replace(\".mp3\", \"\")\n",
    "  src = \"{}{}{}\".format(\"D:/data_ready/test/age/female/female_fifties/\", files[k], \".mp3\")\n",
    "  dst = \"{}{}{}\".format(\"D:/data_ready_wav/test/age/female/female_fifties/\", files[k], \".wav\")\n",
    "  # convert wav to mp3 \n",
    "  sound = AudioSegment.from_mp3(src)\n",
    "  sound.export(dst, format=\"wav\")"
   ]
  },
  {
   "cell_type": "code",
   "execution_count": 13,
   "metadata": {},
   "outputs": [],
   "source": [
    "directory = r'D:\\data_ready\\test\\age\\male\\male_fifties'\n",
    "files = os.listdir(directory)\n",
    "for k in range (0,1000):\n",
    "  files[k] = files[k].replace(\".mp3\", \"\")\n",
    "  src = \"{}{}{}\".format(\"D:/data_ready/test/age/male/male_fifties/\", files[k], \".mp3\")\n",
    "  dst = \"{}{}{}\".format(\"D:/data_ready_wav/test/age/male/male_fifties/\", files[k], \".wav\")\n",
    "  # convert wav to mp3 \n",
    "  sound = AudioSegment.from_mp3(src)\n",
    "  sound.export(dst, format=\"wav\")"
   ]
  },
  {
   "cell_type": "code",
   "execution_count": 14,
   "metadata": {},
   "outputs": [],
   "source": [
    "directory = r'D:\\data_ready\\test\\age\\female\\female_fourties'\n",
    "files = os.listdir(directory)\n",
    "for k in range (0,1000):\n",
    "  files[k] = files[k].replace(\".mp3\", \"\")\n",
    "  src = \"{}{}{}\".format(\"D:/data_ready/test/age/female/female_fourties/\", files[k], \".mp3\")\n",
    "  dst = \"{}{}{}\".format(\"D:/data_ready_wav/test/age/female/female_fourties/\", files[k], \".wav\")\n",
    "  # convert wav to mp3 \n",
    "  sound = AudioSegment.from_mp3(src)\n",
    "  sound.export(dst, format=\"wav\")"
   ]
  },
  {
   "cell_type": "code",
   "execution_count": 15,
   "metadata": {},
   "outputs": [],
   "source": [
    "directory = r'D:\\data_ready\\test\\age\\male\\male_fourties'\n",
    "files = os.listdir(directory)\n",
    "for k in range (0,1000):\n",
    "  files[k] = files[k].replace(\".mp3\", \"\")\n",
    "  src = \"{}{}{}\".format(\"D:/data_ready/test/age/male/male_fourties/\", files[k], \".mp3\")\n",
    "  dst = \"{}{}{}\".format(\"D:/data_ready_wav/test/age/male/male_fourties/\", files[k], \".wav\")\n",
    "  # convert wav to mp3 \n",
    "  sound = AudioSegment.from_mp3(src)\n",
    "  sound.export(dst, format=\"wav\")"
   ]
  },
  {
   "cell_type": "code",
   "execution_count": 16,
   "metadata": {},
   "outputs": [],
   "source": [
    "directory = r'D:\\data_ready\\test\\age\\female\\female_seventies'\n",
    "files = os.listdir(directory)\n",
    "for k in range (0,618):\n",
    "  files[k] = files[k].replace(\".mp3\", \"\")\n",
    "  src = \"{}{}{}\".format(\"D:/data_ready/test/age/female/female_seventies/\", files[k], \".mp3\")\n",
    "  dst = \"{}{}{}\".format(\"D:/data_ready_wav/test/age/female/female_seventies/\", files[k], \".wav\")\n",
    "  # convert wav to mp3 \n",
    "  sound = AudioSegment.from_mp3(src)\n",
    "  sound.export(dst, format=\"wav\")"
   ]
  },
  {
   "cell_type": "code",
   "execution_count": 17,
   "metadata": {},
   "outputs": [],
   "source": [
    "directory = r'D:\\data_ready\\test\\age\\male\\male_seventies'\n",
    "files = os.listdir(directory)\n",
    "for k in range (0,1000):\n",
    "  files[k] = files[k].replace(\".mp3\", \"\")\n",
    "  src = \"{}{}{}\".format(\"D:/data_ready/test/age/male/male_seventies/\", files[k], \".mp3\")\n",
    "  dst = \"{}{}{}\".format(\"D:/data_ready_wav/test/age/male/male_seventies/\", files[k], \".wav\")\n",
    "  # convert wav to mp3 \n",
    "  sound = AudioSegment.from_mp3(src)\n",
    "  sound.export(dst, format=\"wav\")"
   ]
  },
  {
   "cell_type": "code",
   "execution_count": 18,
   "metadata": {},
   "outputs": [],
   "source": [
    "directory = r'D:\\data_ready\\test\\age\\female\\female_sixties'\n",
    "files = os.listdir(directory)\n",
    "for k in range (0,1000):\n",
    "  files[k] = files[k].replace(\".mp3\", \"\")\n",
    "  src = \"{}{}{}\".format(\"D:/data_ready/test/age/female/female_sixties/\", files[k], \".mp3\")\n",
    "  dst = \"{}{}{}\".format(\"D:/data_ready_wav/test/age/female/female_sixties/\", files[k], \".wav\")\n",
    "  # convert wav to mp3 \n",
    "  sound = AudioSegment.from_mp3(src)\n",
    "  sound.export(dst, format=\"wav\")"
   ]
  },
  {
   "cell_type": "code",
   "execution_count": 19,
   "metadata": {},
   "outputs": [],
   "source": [
    "directory = r'D:\\data_ready\\test\\age\\male\\male_sixties'\n",
    "files = os.listdir(directory)\n",
    "for k in range (0,1000):\n",
    "  files[k] = files[k].replace(\".mp3\", \"\")\n",
    "  src = \"{}{}{}\".format(\"D:/data_ready/test/age/male/male_sixties/\", files[k], \".mp3\")\n",
    "  dst = \"{}{}{}\".format(\"D:/data_ready_wav/test/age/male/male_sixties/\", files[k], \".wav\")\n",
    "  # convert wav to mp3 \n",
    "  sound = AudioSegment.from_mp3(src)\n",
    "  sound.export(dst, format=\"wav\")"
   ]
  },
  {
   "cell_type": "code",
   "execution_count": 20,
   "metadata": {},
   "outputs": [],
   "source": [
    "directory = r'D:\\data_ready\\test\\age\\female\\female_teens'\n",
    "files = os.listdir(directory)\n",
    "for k in range (0,1000):\n",
    "  files[k] = files[k].replace(\".mp3\", \"\")\n",
    "  src = \"{}{}{}\".format(\"D:/data_ready/test/age/female/female_teens/\", files[k], \".mp3\")\n",
    "  dst = \"{}{}{}\".format(\"D:/data_ready_wav/test/age/female/female_teens/\", files[k], \".wav\")\n",
    "  # convert wav to mp3 \n",
    "  sound = AudioSegment.from_mp3(src)\n",
    "  sound.export(dst, format=\"wav\")"
   ]
  },
  {
   "cell_type": "code",
   "execution_count": 21,
   "metadata": {},
   "outputs": [],
   "source": [
    "directory = r'D:\\data_ready\\test\\age\\male\\male_teens'\n",
    "files = os.listdir(directory)\n",
    "for k in range (0,1000):\n",
    "  files[k] = files[k].replace(\".mp3\", \"\")\n",
    "  src = \"{}{}{}\".format(\"D:/data_ready/test/age/male/male_teens/\", files[k], \".mp3\")\n",
    "  dst = \"{}{}{}\".format(\"D:/data_ready_wav/test/age/male/male_teens/\", files[k], \".wav\")\n",
    "  # convert wav to mp3 \n",
    "  sound = AudioSegment.from_mp3(src)\n",
    "  sound.export(dst, format=\"wav\")"
   ]
  },
  {
   "cell_type": "code",
   "execution_count": 22,
   "metadata": {},
   "outputs": [],
   "source": [
    "directory = r'D:\\data_ready\\test\\age\\female\\female_thirties'\n",
    "files = os.listdir(directory)\n",
    "for k in range (0,1000):\n",
    "  files[k] = files[k].replace(\".mp3\", \"\")\n",
    "  src = \"{}{}{}\".format(\"D:/data_ready/test/age/female/female_thirties/\", files[k], \".mp3\")\n",
    "  dst = \"{}{}{}\".format(\"D:/data_ready_wav/test/age/female/female_thirties/\", files[k], \".wav\")\n",
    "  # convert wav to mp3 \n",
    "  sound = AudioSegment.from_mp3(src)\n",
    "  sound.export(dst, format=\"wav\")"
   ]
  },
  {
   "cell_type": "code",
   "execution_count": 23,
   "metadata": {},
   "outputs": [],
   "source": [
    "directory = r'D:\\data_ready\\test\\age\\male\\male_thirties'\n",
    "files = os.listdir(directory)\n",
    "for k in range (0,1000):\n",
    "  files[k] = files[k].replace(\".mp3\", \"\")\n",
    "  src = \"{}{}{}\".format(\"D:/data_ready/test/age/male/male_thirties/\", files[k], \".mp3\")\n",
    "  dst = \"{}{}{}\".format(\"D:/data_ready_wav/test/age/male/male_thirties/\", files[k], \".wav\")\n",
    "  # convert wav to mp3 \n",
    "  sound = AudioSegment.from_mp3(src)\n",
    "  sound.export(dst, format=\"wav\")"
   ]
  },
  {
   "cell_type": "code",
   "execution_count": 24,
   "metadata": {},
   "outputs": [],
   "source": [
    "directory = r'D:\\data_ready\\test\\age\\female\\female_twenties'\n",
    "files = os.listdir(directory)\n",
    "for k in range (0,1000):\n",
    "  files[k] = files[k].replace(\".mp3\", \"\")\n",
    "  src = \"{}{}{}\".format(\"D:/data_ready/test/age/female/female_twenties/\", files[k], \".mp3\")\n",
    "  dst = \"{}{}{}\".format(\"D:/data_ready_wav/test/age/female/female_twenties/\", files[k], \".wav\")\n",
    "  # convert wav to mp3 \n",
    "  sound = AudioSegment.from_mp3(src)\n",
    "  sound.export(dst, format=\"wav\")"
   ]
  },
  {
   "cell_type": "code",
   "execution_count": 25,
   "metadata": {},
   "outputs": [],
   "source": [
    "directory = r'D:\\data_ready\\test\\age\\male\\male_twenties'\n",
    "files = os.listdir(directory)\n",
    "for k in range (0,1000):\n",
    "  files[k] = files[k].replace(\".mp3\", \"\")\n",
    "  src = \"{}{}{}\".format(\"D:/data_ready/test/age/male/male_twenties/\", files[k], \".mp3\")\n",
    "  dst = \"{}{}{}\".format(\"D:/data_ready_wav/test/age/male/male_twenties/\", files[k], \".wav\")\n",
    "  # convert wav to mp3 \n",
    "  sound = AudioSegment.from_mp3(src)\n",
    "  sound.export(dst, format=\"wav\")"
   ]
  },
  {
   "cell_type": "code",
   "execution_count": 26,
   "metadata": {},
   "outputs": [],
   "source": [
    "#VAL PATH\n",
    "#загружаем все имена файлов в files формата 'name.mp3'\n",
    "directory = r'D:\\data_ready\\val\\gender\\female'\n",
    "files = os.listdir(directory)\n",
    "for k in range (0,1190):\n",
    "  files[k] = files[k].replace(\".mp3\", \"\")\n",
    "  src = \"{}{}{}\".format(\"D:/data_ready/val/gender/female/\", files[k], \".mp3\")\n",
    "  dst = \"{}{}{}\".format(\"D:/data_ready_wav/val/gender/female/\", files[k], \".wav\")\n",
    "  # convert wav to mp3 \n",
    "  sound = AudioSegment.from_mp3(src)\n",
    "  sound.export(dst, format=\"wav\")"
   ]
  },
  {
   "cell_type": "code",
   "execution_count": 27,
   "metadata": {},
   "outputs": [],
   "source": [
    "directory = r'D:\\data_ready\\val\\gender\\male'\n",
    "files = os.listdir(directory)\n",
    "for k in range (0,1190):\n",
    "  files[k] = files[k].replace(\".mp3\", \"\")\n",
    "  src = \"{}{}{}\".format(\"D:/data_ready/val/gender/male/\", files[k], \".mp3\")\n",
    "  dst = \"{}{}{}\".format(\"D:/data_ready_wav/val/gender/male/\", files[k], \".wav\")\n",
    "  # convert wav to mp3 \n",
    "  sound = AudioSegment.from_mp3(src)\n",
    "  sound.export(dst, format=\"wav\")"
   ]
  },
  {
   "cell_type": "code",
   "execution_count": 28,
   "metadata": {},
   "outputs": [],
   "source": [
    "#AGE\n",
    "#train >> age\n",
    "directory = r'D:\\data_ready\\val\\age\\female\\female_fifties'\n",
    "files = os.listdir(directory)\n",
    "for k in range (0,726):\n",
    "  files[k] = files[k].replace(\".mp3\", \"\")\n",
    "  src = \"{}{}{}\".format(\"D:/data_ready/val/age/female/female_fifties/\", files[k], \".mp3\")\n",
    "  dst = \"{}{}{}\".format(\"D:/data_ready_wav/val/age/female/female_fifties/\", files[k], \".wav\")\n",
    "  # convert wav to mp3 \n",
    "  sound = AudioSegment.from_mp3(src)\n",
    "  sound.export(dst, format=\"wav\")"
   ]
  },
  {
   "cell_type": "code",
   "execution_count": 29,
   "metadata": {},
   "outputs": [],
   "source": [
    "directory = r'D:\\data_ready\\val\\age\\male\\male_fifties'\n",
    "files = os.listdir(directory)\n",
    "for k in range (0,1015):\n",
    "  files[k] = files[k].replace(\".mp3\", \"\")\n",
    "  src = \"{}{}{}\".format(\"D:/data_ready/val/age/male/male_fifties/\", files[k], \".mp3\")\n",
    "  dst = \"{}{}{}\".format(\"D:/data_ready_wav/val/age/male/male_fifties/\", files[k], \".wav\")\n",
    "  # convert wav to mp3 \n",
    "  sound = AudioSegment.from_mp3(src)\n",
    "  sound.export(dst, format=\"wav\")"
   ]
  },
  {
   "cell_type": "code",
   "execution_count": 30,
   "metadata": {},
   "outputs": [],
   "source": [
    "directory = r'D:\\data_ready\\val\\age\\female\\female_fourties'\n",
    "files = os.listdir(directory)\n",
    "for k in range (0,685):\n",
    "  files[k] = files[k].replace(\".mp3\", \"\")\n",
    "  src = \"{}{}{}\".format(\"D:/data_ready/val/age/female/female_fourties/\", files[k], \".mp3\")\n",
    "  dst = \"{}{}{}\".format(\"D:/data_ready_wav/val/age/female/female_fourties/\", files[k], \".wav\")\n",
    "  # convert wav to mp3 \n",
    "  sound = AudioSegment.from_mp3(src)\n",
    "  sound.export(dst, format=\"wav\")"
   ]
  },
  {
   "cell_type": "code",
   "execution_count": 31,
   "metadata": {},
   "outputs": [],
   "source": [
    "directory = r'D:\\data_ready\\val\\age\\male\\male_fourties'\n",
    "files = os.listdir(directory)\n",
    "for k in range (0,873):\n",
    "  files[k] = files[k].replace(\".mp3\", \"\")\n",
    "  src = \"{}{}{}\".format(\"D:/data_ready/val/age/male/male_fourties/\", files[k], \".mp3\")\n",
    "  dst = \"{}{}{}\".format(\"D:/data_ready_wav/val/age/male/male_fourties/\", files[k], \".wav\")\n",
    "  # convert wav to mp3 \n",
    "  sound = AudioSegment.from_mp3(src)\n",
    "  sound.export(dst, format=\"wav\")"
   ]
  },
  {
   "cell_type": "code",
   "execution_count": 32,
   "metadata": {},
   "outputs": [],
   "source": [
    "directory = r'D:\\data_ready\\val\\age\\female\\female_seventies'\n",
    "files = os.listdir(directory)\n",
    "for k in range (0,302):\n",
    "  files[k] = files[k].replace(\".mp3\", \"\")\n",
    "  src = \"{}{}{}\".format(\"D:/data_ready/val/age/female/female_seventies/\", files[k], \".mp3\")\n",
    "  dst = \"{}{}{}\".format(\"D:/data_ready_wav/val/age/female/female_seventies/\", files[k], \".wav\")\n",
    "  # convert wav to mp3 \n",
    "  sound = AudioSegment.from_mp3(src)\n",
    "  sound.export(dst, format=\"wav\")"
   ]
  },
  {
   "cell_type": "code",
   "execution_count": 33,
   "metadata": {},
   "outputs": [],
   "source": [
    "directory = r'D:\\data_ready\\val\\age\\male\\male_seventies'\n",
    "files = os.listdir(directory)\n",
    "for k in range (0,1033):\n",
    "  files[k] = files[k].replace(\".mp3\", \"\")\n",
    "  src = \"{}{}{}\".format(\"D:/data_ready/val/age/male/male_seventies/\", files[k], \".mp3\")\n",
    "  dst = \"{}{}{}\".format(\"D:/data_ready_wav/val/age/male/male_seventies/\", files[k], \".wav\")\n",
    "  # convert wav to mp3 \n",
    "  sound = AudioSegment.from_mp3(src)\n",
    "  sound.export(dst, format=\"wav\")"
   ]
  },
  {
   "cell_type": "code",
   "execution_count": 34,
   "metadata": {},
   "outputs": [],
   "source": [
    "directory = r'D:\\data_ready\\val\\age\\female\\female_sixties'\n",
    "files = os.listdir(directory)\n",
    "for k in range (0,936):\n",
    "  files[k] = files[k].replace(\".mp3\", \"\")\n",
    "  src = \"{}{}{}\".format(\"D:/data_ready/val/age/female/female_sixties/\", files[k], \".mp3\")\n",
    "  dst = \"{}{}{}\".format(\"D:/data_ready_wav/val/age/female/female_sixties/\", files[k], \".wav\")\n",
    "  # convert wav to mp3 \n",
    "  sound = AudioSegment.from_mp3(src)\n",
    "  sound.export(dst, format=\"wav\")"
   ]
  },
  {
   "cell_type": "code",
   "execution_count": 35,
   "metadata": {},
   "outputs": [],
   "source": [
    "directory = r'D:\\data_ready\\val\\age\\male\\male_sixties'\n",
    "files = os.listdir(directory)\n",
    "for k in range (0,872):\n",
    "  files[k] = files[k].replace(\".mp3\", \"\")\n",
    "  src = \"{}{}{}\".format(\"D:/data_ready/val/age/male/male_sixties/\", files[k], \".mp3\")\n",
    "  dst = \"{}{}{}\".format(\"D:/data_ready_wav/val/age/male/male_sixties/\", files[k], \".wav\")\n",
    "  # convert wav to mp3 \n",
    "  sound = AudioSegment.from_mp3(src)\n",
    "  sound.export(dst, format=\"wav\")"
   ]
  },
  {
   "cell_type": "code",
   "execution_count": 36,
   "metadata": {},
   "outputs": [],
   "source": [
    "directory = r'D:\\data_ready\\val\\age\\female\\female_teens'\n",
    "files = os.listdir(directory)\n",
    "for k in range (0,904):\n",
    "  files[k] = files[k].replace(\".mp3\", \"\")\n",
    "  src = \"{}{}{}\".format(\"D:/data_ready/val/age/female/female_teens/\", files[k], \".mp3\")\n",
    "  dst = \"{}{}{}\".format(\"D:/data_ready_wav/val/age/female/female_teens/\", files[k], \".wav\")\n",
    "  # convert wav to mp3 \n",
    "  sound = AudioSegment.from_mp3(src)\n",
    "  sound.export(dst, format=\"wav\")"
   ]
  },
  {
   "cell_type": "code",
   "execution_count": 37,
   "metadata": {},
   "outputs": [],
   "source": [
    "directory = r'D:\\data_ready\\val\\age\\male\\male_teens'\n",
    "files = os.listdir(directory)\n",
    "for k in range (0,884):\n",
    "  files[k] = files[k].replace(\".mp3\", \"\")\n",
    "  src = \"{}{}{}\".format(\"D:/data_ready/val/age/male/male_teens/\", files[k], \".mp3\")\n",
    "  dst = \"{}{}{}\".format(\"D:/data_ready_wav/val/age/male/male_teens/\", files[k], \".wav\")\n",
    "  # convert wav to mp3 \n",
    "  sound = AudioSegment.from_mp3(src)\n",
    "  sound.export(dst, format=\"wav\")"
   ]
  },
  {
   "cell_type": "code",
   "execution_count": 38,
   "metadata": {},
   "outputs": [],
   "source": [
    "directory = r'D:\\data_ready\\val\\age\\female\\female_thirties'\n",
    "files = os.listdir(directory)\n",
    "for k in range (0,975):\n",
    "  files[k] = files[k].replace(\".mp3\", \"\")\n",
    "  src = \"{}{}{}\".format(\"D:/data_ready/val/age/female/female_thirties/\", files[k], \".mp3\")\n",
    "  dst = \"{}{}{}\".format(\"D:/data_ready_wav/val/age/female/female_thirties/\", files[k], \".wav\")\n",
    "  # convert wav to mp3 \n",
    "  sound = AudioSegment.from_mp3(src)\n",
    "  sound.export(dst, format=\"wav\")"
   ]
  },
  {
   "cell_type": "code",
   "execution_count": 39,
   "metadata": {},
   "outputs": [],
   "source": [
    "directory = r'D:\\data_ready\\val\\age\\male\\male_thirties'\n",
    "files = os.listdir(directory)\n",
    "for k in range (0,855):\n",
    "  files[k] = files[k].replace(\".mp3\", \"\")\n",
    "  src = \"{}{}{}\".format(\"D:/data_ready/val/age/male/male_thirties/\", files[k], \".mp3\")\n",
    "  dst = \"{}{}{}\".format(\"D:/data_ready_wav/val/age/male/male_thirties/\", files[k], \".wav\")\n",
    "  # convert wav to mp3 \n",
    "  sound = AudioSegment.from_mp3(src)\n",
    "  sound.export(dst, format=\"wav\")"
   ]
  },
  {
   "cell_type": "code",
   "execution_count": 40,
   "metadata": {},
   "outputs": [],
   "source": [
    "directory = r'D:\\data_ready\\val\\age\\female\\female_twenties'\n",
    "files = os.listdir(directory)\n",
    "for k in range (0,944):\n",
    "  files[k] = files[k].replace(\".mp3\", \"\")\n",
    "  src = \"{}{}{}\".format(\"D:/data_ready/val/age/female/female_twenties/\", files[k], \".mp3\")\n",
    "  dst = \"{}{}{}\".format(\"D:/data_ready_wav/val/age/female/female_twenties/\", files[k], \".wav\")\n",
    "  # convert wav to mp3 \n",
    "  sound = AudioSegment.from_mp3(src)\n",
    "  sound.export(dst, format=\"wav\")"
   ]
  },
  {
   "cell_type": "code",
   "execution_count": 41,
   "metadata": {},
   "outputs": [],
   "source": [
    "directory = r'D:\\data_ready\\val\\age\\male\\male_twenties'\n",
    "files = os.listdir(directory)\n",
    "for k in range (0,828):\n",
    "  files[k] = files[k].replace(\".mp3\", \"\")\n",
    "  src = \"{}{}{}\".format(\"D:/data_ready/val/age/male/male_twenties/\", files[k], \".mp3\")\n",
    "  dst = \"{}{}{}\".format(\"D:/data_ready_wav/val/age/male/male_twenties/\", files[k], \".wav\")\n",
    "  # convert wav to mp3 \n",
    "  sound = AudioSegment.from_mp3(src)\n",
    "  sound.export(dst, format=\"wav\")"
   ]
  }
 ],
 "metadata": {
  "kernelspec": {
   "display_name": "Python 3",
   "language": "python",
   "name": "python3"
  },
  "language_info": {
   "codemirror_mode": {
    "name": "ipython",
    "version": 3
   },
   "file_extension": ".py",
   "mimetype": "text/x-python",
   "name": "python",
   "nbconvert_exporter": "python",
   "pygments_lexer": "ipython3",
   "version": "3.7.9"
  }
 },
 "nbformat": 4,
 "nbformat_minor": 4
}
