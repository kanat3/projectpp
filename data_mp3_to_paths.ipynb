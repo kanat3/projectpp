{
 "cells": [
  {
   "cell_type": "code",
   "execution_count": 1,
   "metadata": {},
   "outputs": [],
   "source": [
    "import os\n",
    "import pandas as pd\n",
    "import shutil\n",
    "#Читаю обучающий файл  \n",
    "train=pd.read_csv(r'D:/data_en/train_en.csv',  sep=\"\\t\", encoding=\"utf-8\")"
   ]
  },
  {
   "cell_type": "code",
   "execution_count": 2,
   "metadata": {},
   "outputs": [
    {
     "data": {
      "text/html": [
       "<div>\n",
       "<style scoped>\n",
       "    .dataframe tbody tr th:only-of-type {\n",
       "        vertical-align: middle;\n",
       "    }\n",
       "\n",
       "    .dataframe tbody tr th {\n",
       "        vertical-align: top;\n",
       "    }\n",
       "\n",
       "    .dataframe thead th {\n",
       "        text-align: right;\n",
       "    }\n",
       "</style>\n",
       "<table border=\"1\" class=\"dataframe\">\n",
       "  <thead>\n",
       "    <tr style=\"text-align: right;\">\n",
       "      <th></th>\n",
       "      <th>path</th>\n",
       "      <th>age</th>\n",
       "      <th>gender</th>\n",
       "    </tr>\n",
       "  </thead>\n",
       "  <tbody>\n",
       "    <tr>\n",
       "      <th>0</th>\n",
       "      <td>common_voice_en_18295850.mp3</td>\n",
       "      <td>twenties</td>\n",
       "      <td>male</td>\n",
       "    </tr>\n",
       "    <tr>\n",
       "      <th>1</th>\n",
       "      <td>common_voice_en_22338655.mp3</td>\n",
       "      <td>twenties</td>\n",
       "      <td>female</td>\n",
       "    </tr>\n",
       "    <tr>\n",
       "      <th>2</th>\n",
       "      <td>common_voice_en_18277778.mp3</td>\n",
       "      <td>fourties</td>\n",
       "      <td>male</td>\n",
       "    </tr>\n",
       "    <tr>\n",
       "      <th>3</th>\n",
       "      <td>common_voice_en_21943181.mp3</td>\n",
       "      <td>twenties</td>\n",
       "      <td>male</td>\n",
       "    </tr>\n",
       "    <tr>\n",
       "      <th>4</th>\n",
       "      <td>common_voice_en_20586574.mp3</td>\n",
       "      <td>twenties</td>\n",
       "      <td>male</td>\n",
       "    </tr>\n",
       "    <tr>\n",
       "      <th>...</th>\n",
       "      <td>...</td>\n",
       "      <td>...</td>\n",
       "      <td>...</td>\n",
       "    </tr>\n",
       "    <tr>\n",
       "      <th>663682</th>\n",
       "      <td>common_voice_en_22471323.mp3</td>\n",
       "      <td>fourties</td>\n",
       "      <td>male</td>\n",
       "    </tr>\n",
       "    <tr>\n",
       "      <th>663683</th>\n",
       "      <td>common_voice_en_22471330.mp3</td>\n",
       "      <td>fourties</td>\n",
       "      <td>male</td>\n",
       "    </tr>\n",
       "    <tr>\n",
       "      <th>663684</th>\n",
       "      <td>common_voice_en_22471338.mp3</td>\n",
       "      <td>fourties</td>\n",
       "      <td>male</td>\n",
       "    </tr>\n",
       "    <tr>\n",
       "      <th>663685</th>\n",
       "      <td>common_voice_en_22471341.mp3</td>\n",
       "      <td>fourties</td>\n",
       "      <td>male</td>\n",
       "    </tr>\n",
       "    <tr>\n",
       "      <th>663686</th>\n",
       "      <td>common_voice_en_22471360.mp3</td>\n",
       "      <td>fourties</td>\n",
       "      <td>male</td>\n",
       "    </tr>\n",
       "  </tbody>\n",
       "</table>\n",
       "<p>663687 rows × 3 columns</p>\n",
       "</div>"
      ],
      "text/plain": [
       "                                path       age  gender\n",
       "0       common_voice_en_18295850.mp3  twenties    male\n",
       "1       common_voice_en_22338655.mp3  twenties  female\n",
       "2       common_voice_en_18277778.mp3  fourties    male\n",
       "3       common_voice_en_21943181.mp3  twenties    male\n",
       "4       common_voice_en_20586574.mp3  twenties    male\n",
       "...                              ...       ...     ...\n",
       "663682  common_voice_en_22471323.mp3  fourties    male\n",
       "663683  common_voice_en_22471330.mp3  fourties    male\n",
       "663684  common_voice_en_22471338.mp3  fourties    male\n",
       "663685  common_voice_en_22471341.mp3  fourties    male\n",
       "663686  common_voice_en_22471360.mp3  fourties    male\n",
       "\n",
       "[663687 rows x 3 columns]"
      ]
     },
     "execution_count": 2,
     "metadata": {},
     "output_type": "execute_result"
    }
   ],
   "source": [
    "train"
   ]
  },
  {
   "cell_type": "code",
   "execution_count": 3,
   "metadata": {},
   "outputs": [
    {
     "data": {
      "text/plain": [
       "array(['twenties', 'fourties', 'thirties', 'seventies', 'fifties',\n",
       "       'teens', 'sixties', 'eighties', 'nineties'], dtype=object)"
      ]
     },
     "execution_count": 3,
     "metadata": {},
     "output_type": "execute_result"
    }
   ],
   "source": [
    "train[\"age\"].unique()"
   ]
  },
  {
   "cell_type": "code",
   "execution_count": null,
   "metadata": {},
   "outputs": [],
   "source": [
    "train_labels=train[[\"path\", \"age\", \"gender\"]]\n",
    "male_train = train_labels[train_labels[\"gender\"]==\"male\"] #выбираю файлы в train.csv, которые имеют gender == male\n",
    "female_train = train_labels[train_labels[\"gender\"]==\"female\"]\n",
    "\n",
    "female_fifties_train = female_train[female_train[\"age\"]==\"fifties\"] \n",
    "male_fifties_train = male_train[male_train[\"age\"]==\"fifties\"]\n",
    "\n",
    "male_sixties_train = male_train[male_train[\"age\"]==\"sixties\"]\n",
    "female_sixties_train = female_train[female_train[\"age\"]==\"sixties\"]\n",
    "\n",
    "female_thirties_train = female_train[female_train[\"age\"]==\"thirties\"]\n",
    "male_thirties_train = male_train[male_train[\"age\"]==\"thirties\"]\n",
    "\n",
    "female_twenties_train = female_train[female_train[\"age\"]==\"twenties\"]\n",
    "male_twenties_train = male_train[male_train[\"age\"]==\"twenties\"]\n",
    "\n",
    "female_teens_train = female_train[female_train[\"age\"]==\"teens\"]\n",
    "male_teens_train = male_train[male_train[\"age\"]==\"teens\"]\n",
    "\n",
    "female_fourties_train = female_train[female_train[\"age\"]==\"fourties\"]\n",
    "male_fourties_train = male_train[male_train[\"age\"]==\"fourties\"]\n",
    "\n",
    "female_seventies_train = female_train[female_train[\"age\"]==\"seventies\"]\n",
    "male_seventies_train = male_train[male_train[\"age\"]==\"seventies\"]\n",
    "\n",
    "female_eighties_train = female_train[female_train[\"age\"]==\"eighties\"]\n",
    "male_eighties_train = male_train[male_train[\"age\"]==\"eighties\"]\n",
    "\n",
    "female_nineties_train = female_train[female_train[\"age\"]==\"nineties\"]\n",
    "male_nineties_train = male_train[male_train[\"age\"]==\"nineties\"]"
   ]
  },
  {
   "cell_type": "code",
   "execution_count": null,
   "metadata": {},
   "outputs": [],
   "source": [
    "paths = os.listdir('D:/data_en/en/en/en/clips')\n",
    "#копирую из общей папки изображения в директорию train/male \n",
    "for f in male_train[\"path\"].tolist():\n",
    "  if f in paths:\n",
    "    shutil.copy('D:/data_en/en/en/en/clips/' + f, 'D:/data_ready/train/gender/male/'+ f)"
   ]
  },
  {
   "cell_type": "code",
   "execution_count": null,
   "metadata": {},
   "outputs": [],
   "source": [
    "paths = os.listdir('D:/data_en/en/en/en/clips')\n",
    "#теперь train >> train/female\n",
    "for f in female_train[\"path\"].tolist():\n",
    "  if f in paths:\n",
    "    shutil.copy('D:/data_en/en/en/en/clips/' + f, 'D:/data_ready/train/gender/female/'+ f)"
   ]
  },
  {
   "cell_type": "code",
   "execution_count": null,
   "metadata": {},
   "outputs": [],
   "source": [
    "# train >> fifties\n",
    "for f in male_fifties_train[\"path\"].tolist():\n",
    "  if f in paths:\n",
    "    shutil.copy('D:/data_en/en/en/en/clips/' + f, 'D:/data_ready/train/age/male_fifties/'+ f)\n",
    "    \n",
    "for f in female_fifties_train[\"path\"].tolist():\n",
    "  if f in paths:\n",
    "    shutil.copy('D:/data_en/en/en/en/clips/' + f, \"D:/data_ready/train/age/female_fifties/\"+ f)"
   ]
  },
  {
   "cell_type": "code",
   "execution_count": null,
   "metadata": {},
   "outputs": [],
   "source": [
    "# train >> sixties\n",
    "for f in male_sixties_train[\"path\"].tolist():\n",
    "  if f in paths:\n",
    "    shutil.copy('D:/data_en/en/en/en/clips/' + f, \"D:/data_ready/train/age/male_sixties/\"+ f)"
   ]
  },
  {
   "cell_type": "code",
   "execution_count": null,
   "metadata": {},
   "outputs": [],
   "source": [
    "for f in female_sixties_train[\"path\"].tolist():\n",
    "  if f in paths:\n",
    "    shutil.copy('D:/data_en/en/en/en/clips/' + f, \"D:/data_ready/train/age/female_sixties/\"+ f)"
   ]
  },
  {
   "cell_type": "code",
   "execution_count": null,
   "metadata": {},
   "outputs": [],
   "source": [
    "# train >> thirties\n",
    "for f in male_thirties_train[\"path\"].tolist():\n",
    "  if f in paths:\n",
    "    shutil.copy('D:/data_en/en/en/en/clips/' + f, \"D:/data_ready/train/age/male_thirties/\"+ f)"
   ]
  },
  {
   "cell_type": "code",
   "execution_count": null,
   "metadata": {},
   "outputs": [],
   "source": [
    "for f in female_thirties_train[\"path\"].tolist():\n",
    "  if f in paths:\n",
    "    shutil.copy('D:/data_en/en/en/en/clips/' + f, \"D:/data_ready/train/age/female_thirties/\"+ f)"
   ]
  },
  {
   "cell_type": "code",
   "execution_count": null,
   "metadata": {},
   "outputs": [],
   "source": [
    "# train >> twenties\n",
    "for f in male_twenties_train[\"path\"].tolist():\n",
    "  if f in paths:\n",
    "    shutil.copy('D:/data_en/en/en/en/clips/' + f, \"D:/data_ready/train/age/male_twenties/\"+ f)"
   ]
  },
  {
   "cell_type": "code",
   "execution_count": null,
   "metadata": {},
   "outputs": [],
   "source": [
    "for f in female_twenties_train[\"path\"].tolist():\n",
    "  if f in paths:\n",
    "    shutil.copy('D:/data_en/en/en/en/clips/' + f, \"D:/data_ready/train/age/female_twenties/\"+ f)"
   ]
  },
  {
   "cell_type": "code",
   "execution_count": null,
   "metadata": {},
   "outputs": [],
   "source": [
    "# train >> teens\n",
    "for f in male_teens_train[\"path\"].tolist():\n",
    "  if f in paths:\n",
    "    shutil.copy('D:/data_en/en/en/en/clips/' + f, \"D:/data_ready/train/age/male_teens/\"+ f)"
   ]
  },
  {
   "cell_type": "code",
   "execution_count": null,
   "metadata": {},
   "outputs": [],
   "source": [
    "for f in female_teens_train[\"path\"].tolist():\n",
    "  if f in paths:\n",
    "    shutil.copy('D:/data_en/en/en/en/clips/' + f, \"D:/data_ready/train/age/female_teens/\"+ f)"
   ]
  },
  {
   "cell_type": "code",
   "execution_count": null,
   "metadata": {},
   "outputs": [],
   "source": [
    "# train >> fourties\n",
    "for f in male_fourties_train[\"path\"].tolist():\n",
    "  if f in paths:\n",
    "    shutil.copy('D:/data_en/en/en/en/clips/' + f, \"D:/data_ready/train/age/male_fourties/\"+ f)"
   ]
  },
  {
   "cell_type": "code",
   "execution_count": null,
   "metadata": {},
   "outputs": [],
   "source": [
    "for f in female_fourties_train[\"path\"].tolist():\n",
    "  if f in paths:\n",
    "    shutil.copy('D:/data_en/en/en/en/clips/' + f, \"D:/data_ready/train/age/female_fourties/\"+ f)"
   ]
  },
  {
   "cell_type": "code",
   "execution_count": null,
   "metadata": {},
   "outputs": [],
   "source": [
    "# train >> eighties\n",
    "for f in male_eighties_train[\"path\"].tolist():\n",
    "  if f in paths:\n",
    "    shutil.copy('D:/data_en/en/en/en/clips/' + f, \"D:/data_ready/train/age/male_eighties/\"+ f)"
   ]
  },
  {
   "cell_type": "code",
   "execution_count": null,
   "metadata": {},
   "outputs": [],
   "source": [
    "for f in female_eighties_train[\"path\"].tolist():\n",
    "  if f in paths:\n",
    "    shutil.copy('D:/data_en/en/en/en/clips/' + f, \"D:/data_ready/train/age/female_eighties/\"+ f)"
   ]
  },
  {
   "cell_type": "code",
   "execution_count": null,
   "metadata": {},
   "outputs": [],
   "source": [
    "# train >> seventies\n",
    "for f in male_seventies_train[\"path\"].tolist():\n",
    "  if f in paths:\n",
    "    shutil.copy('D:/data_en/en/en/en/clips/' + f, \"D:/data_ready/train/age/male_seventies/\"+ f)"
   ]
  },
  {
   "cell_type": "code",
   "execution_count": null,
   "metadata": {},
   "outputs": [],
   "source": [
    "for f in female_seventies_train[\"path\"].tolist():\n",
    "  if f in paths:\n",
    "    shutil.copy('D:/data_en/en/en/en/clips/' + f, \"D:/data_ready/train/age/female_seventies/\"+ f)"
   ]
  },
  {
   "cell_type": "code",
   "execution_count": null,
   "metadata": {},
   "outputs": [],
   "source": [
    "# train >> nineties\n",
    "for f in male_nineties_train[\"path\"].tolist():\n",
    "  if f in paths:\n",
    "    shutil.copy('D:/data_en/en/en/en/clips/' + f, \"D:/data_ready/train/age/male_nineties/\"+ f)"
   ]
  },
  {
   "cell_type": "code",
   "execution_count": null,
   "metadata": {},
   "outputs": [],
   "source": [
    "for f in female_nineties_train[\"path\"].tolist():\n",
    "  if f in paths:\n",
    "    shutil.copy('D:/data_en/en/en/en/clips/' + f, \"D:/data_ready/train/age/female_nineties/\"+ f)"
   ]
  },
  {
   "cell_type": "code",
   "execution_count": 4,
   "metadata": {},
   "outputs": [],
   "source": [
    "#Читаю test файл  \n",
    "test=pd.read_csv(r'D:/data_en/test_en.csv',  sep=\"\\t\", encoding=\"utf-8\")"
   ]
  },
  {
   "cell_type": "code",
   "execution_count": 5,
   "metadata": {},
   "outputs": [
    {
     "data": {
      "text/html": [
       "<div>\n",
       "<style scoped>\n",
       "    .dataframe tbody tr th:only-of-type {\n",
       "        vertical-align: middle;\n",
       "    }\n",
       "\n",
       "    .dataframe tbody tr th {\n",
       "        vertical-align: top;\n",
       "    }\n",
       "\n",
       "    .dataframe thead th {\n",
       "        text-align: right;\n",
       "    }\n",
       "</style>\n",
       "<table border=\"1\" class=\"dataframe\">\n",
       "  <thead>\n",
       "    <tr style=\"text-align: right;\">\n",
       "      <th></th>\n",
       "      <th>path</th>\n",
       "      <th>age</th>\n",
       "      <th>gender</th>\n",
       "    </tr>\n",
       "  </thead>\n",
       "  <tbody>\n",
       "    <tr>\n",
       "      <th>0</th>\n",
       "      <td>common_voice_en_18295850.mp3</td>\n",
       "      <td>twenties</td>\n",
       "      <td>male</td>\n",
       "    </tr>\n",
       "    <tr>\n",
       "      <th>1</th>\n",
       "      <td>common_voice_en_22338655.mp3</td>\n",
       "      <td>twenties</td>\n",
       "      <td>female</td>\n",
       "    </tr>\n",
       "    <tr>\n",
       "      <th>2</th>\n",
       "      <td>common_voice_en_18277778.mp3</td>\n",
       "      <td>fourties</td>\n",
       "      <td>male</td>\n",
       "    </tr>\n",
       "    <tr>\n",
       "      <th>3</th>\n",
       "      <td>common_voice_en_21943181.mp3</td>\n",
       "      <td>twenties</td>\n",
       "      <td>male</td>\n",
       "    </tr>\n",
       "    <tr>\n",
       "      <th>4</th>\n",
       "      <td>common_voice_en_20586574.mp3</td>\n",
       "      <td>twenties</td>\n",
       "      <td>male</td>\n",
       "    </tr>\n",
       "    <tr>\n",
       "      <th>...</th>\n",
       "      <td>...</td>\n",
       "      <td>...</td>\n",
       "      <td>...</td>\n",
       "    </tr>\n",
       "    <tr>\n",
       "      <th>2439</th>\n",
       "      <td>common_voice_en_676093.mp3</td>\n",
       "      <td>twenties</td>\n",
       "      <td>male</td>\n",
       "    </tr>\n",
       "    <tr>\n",
       "      <th>2440</th>\n",
       "      <td>common_voice_en_2756089.mp3</td>\n",
       "      <td>twenties</td>\n",
       "      <td>male</td>\n",
       "    </tr>\n",
       "    <tr>\n",
       "      <th>2441</th>\n",
       "      <td>common_voice_en_20029169.mp3</td>\n",
       "      <td>twenties</td>\n",
       "      <td>male</td>\n",
       "    </tr>\n",
       "    <tr>\n",
       "      <th>2442</th>\n",
       "      <td>common_voice_en_20029171.mp3</td>\n",
       "      <td>twenties</td>\n",
       "      <td>male</td>\n",
       "    </tr>\n",
       "    <tr>\n",
       "      <th>2443</th>\n",
       "      <td>common_voice_en_20029170.mp3</td>\n",
       "      <td>twenties</td>\n",
       "      <td>male</td>\n",
       "    </tr>\n",
       "  </tbody>\n",
       "</table>\n",
       "<p>2444 rows × 3 columns</p>\n",
       "</div>"
      ],
      "text/plain": [
       "                              path       age  gender\n",
       "0     common_voice_en_18295850.mp3  twenties    male\n",
       "1     common_voice_en_22338655.mp3  twenties  female\n",
       "2     common_voice_en_18277778.mp3  fourties    male\n",
       "3     common_voice_en_21943181.mp3  twenties    male\n",
       "4     common_voice_en_20586574.mp3  twenties    male\n",
       "...                            ...       ...     ...\n",
       "2439    common_voice_en_676093.mp3  twenties    male\n",
       "2440   common_voice_en_2756089.mp3  twenties    male\n",
       "2441  common_voice_en_20029169.mp3  twenties    male\n",
       "2442  common_voice_en_20029171.mp3  twenties    male\n",
       "2443  common_voice_en_20029170.mp3  twenties    male\n",
       "\n",
       "[2444 rows x 3 columns]"
      ]
     },
     "execution_count": 5,
     "metadata": {},
     "output_type": "execute_result"
    }
   ],
   "source": [
    "test"
   ]
  },
  {
   "cell_type": "code",
   "execution_count": 6,
   "metadata": {},
   "outputs": [
    {
     "data": {
      "text/plain": [
       "array(['twenties', 'fourties', 'thirties', 'seventies', 'fifties',\n",
       "       'teens', 'sixties', 'eighties'], dtype=object)"
      ]
     },
     "execution_count": 6,
     "metadata": {},
     "output_type": "execute_result"
    }
   ],
   "source": [
    "test[\"age\"].unique()"
   ]
  },
  {
   "cell_type": "code",
   "execution_count": 7,
   "metadata": {},
   "outputs": [],
   "source": [
    "test_labels=test[[\"path\", \"age\", \"gender\"]]\n",
    "\n",
    "male_test = test_labels[test_labels[\"gender\"]==\"male\"] #выбираю файлы в test.csv, которые имеют gender == male\n",
    "female_test  = test_labels[test_labels[\"gender\"]==\"female\"]\n",
    "\n",
    "#выбираю файлы вида male/fifties и female/fifties \n",
    "female_fifties_test  = female_test[female_test [\"age\"]==\"fifties\"] \n",
    "male_fifties_test  = male_test[male_test [\"age\"]==\"fifties\"]\n",
    "\n",
    "male_sixties_test  = male_test [male_test [\"age\"]==\"sixties\"]\n",
    "female_sixties_test  = female_test [female_test [\"age\"]==\"sixties\"]\n",
    "\n",
    "female_thirties_test  = female_test [female_test [\"age\"]==\"thirties\"]\n",
    "male_thirties_test  = male_test [male_test [\"age\"]==\"thirties\"]\n",
    "\n",
    "female_twenties_test  = female_test [female_test [\"age\"]==\"twenties\"]\n",
    "male_twenties_test  = male_test [male_test [\"age\"]==\"twenties\"]\n",
    "\n",
    "female_teens_test  = female_test [female_test [\"age\"]==\"teens\"]\n",
    "male_teens_test  = male_test [male_test [\"age\"]==\"teens\"]\n",
    "\n",
    "female_fourties_test  = female_test [female_test [\"age\"]==\"fourties\"]\n",
    "male_fourties_test  = male_test [male_test [\"age\"]==\"fourties\"]\n",
    "\n",
    "female_seventies_test = female_test[female_test[\"age\"]==\"seventies\"]\n",
    "male_seventies_test = male_test[male_test[\"age\"]==\"seventies\"]\n",
    "\n",
    "female_eighties_test = female_test[female_test[\"age\"]==\"eighties\"]\n",
    "male_eighties_test = male_test[male_test[\"age\"]==\"eighties\"]\n",
    "\n",
    "female_nineties_test = female_test[female_test[\"age\"]==\"nineties\"]\n",
    "male_nineties_test = male_test[male_test[\"age\"]==\"nineties\"]\n"
   ]
  },
  {
   "cell_type": "code",
   "execution_count": 8,
   "metadata": {},
   "outputs": [
    {
     "data": {
      "text/html": [
       "<div>\n",
       "<style scoped>\n",
       "    .dataframe tbody tr th:only-of-type {\n",
       "        vertical-align: middle;\n",
       "    }\n",
       "\n",
       "    .dataframe tbody tr th {\n",
       "        vertical-align: top;\n",
       "    }\n",
       "\n",
       "    .dataframe thead th {\n",
       "        text-align: right;\n",
       "    }\n",
       "</style>\n",
       "<table border=\"1\" class=\"dataframe\">\n",
       "  <thead>\n",
       "    <tr style=\"text-align: right;\">\n",
       "      <th></th>\n",
       "      <th>path</th>\n",
       "      <th>age</th>\n",
       "      <th>gender</th>\n",
       "    </tr>\n",
       "  </thead>\n",
       "  <tbody>\n",
       "    <tr>\n",
       "      <th>0</th>\n",
       "      <td>common_voice_en_18295850.mp3</td>\n",
       "      <td>twenties</td>\n",
       "      <td>male</td>\n",
       "    </tr>\n",
       "    <tr>\n",
       "      <th>2</th>\n",
       "      <td>common_voice_en_18277778.mp3</td>\n",
       "      <td>fourties</td>\n",
       "      <td>male</td>\n",
       "    </tr>\n",
       "    <tr>\n",
       "      <th>3</th>\n",
       "      <td>common_voice_en_21943181.mp3</td>\n",
       "      <td>twenties</td>\n",
       "      <td>male</td>\n",
       "    </tr>\n",
       "    <tr>\n",
       "      <th>4</th>\n",
       "      <td>common_voice_en_20586574.mp3</td>\n",
       "      <td>twenties</td>\n",
       "      <td>male</td>\n",
       "    </tr>\n",
       "    <tr>\n",
       "      <th>6</th>\n",
       "      <td>common_voice_en_21853647.mp3</td>\n",
       "      <td>twenties</td>\n",
       "      <td>male</td>\n",
       "    </tr>\n",
       "    <tr>\n",
       "      <th>...</th>\n",
       "      <td>...</td>\n",
       "      <td>...</td>\n",
       "      <td>...</td>\n",
       "    </tr>\n",
       "    <tr>\n",
       "      <th>2439</th>\n",
       "      <td>common_voice_en_676093.mp3</td>\n",
       "      <td>twenties</td>\n",
       "      <td>male</td>\n",
       "    </tr>\n",
       "    <tr>\n",
       "      <th>2440</th>\n",
       "      <td>common_voice_en_2756089.mp3</td>\n",
       "      <td>twenties</td>\n",
       "      <td>male</td>\n",
       "    </tr>\n",
       "    <tr>\n",
       "      <th>2441</th>\n",
       "      <td>common_voice_en_20029169.mp3</td>\n",
       "      <td>twenties</td>\n",
       "      <td>male</td>\n",
       "    </tr>\n",
       "    <tr>\n",
       "      <th>2442</th>\n",
       "      <td>common_voice_en_20029171.mp3</td>\n",
       "      <td>twenties</td>\n",
       "      <td>male</td>\n",
       "    </tr>\n",
       "    <tr>\n",
       "      <th>2443</th>\n",
       "      <td>common_voice_en_20029170.mp3</td>\n",
       "      <td>twenties</td>\n",
       "      <td>male</td>\n",
       "    </tr>\n",
       "  </tbody>\n",
       "</table>\n",
       "<p>2096 rows × 3 columns</p>\n",
       "</div>"
      ],
      "text/plain": [
       "                              path       age gender\n",
       "0     common_voice_en_18295850.mp3  twenties   male\n",
       "2     common_voice_en_18277778.mp3  fourties   male\n",
       "3     common_voice_en_21943181.mp3  twenties   male\n",
       "4     common_voice_en_20586574.mp3  twenties   male\n",
       "6     common_voice_en_21853647.mp3  twenties   male\n",
       "...                            ...       ...    ...\n",
       "2439    common_voice_en_676093.mp3  twenties   male\n",
       "2440   common_voice_en_2756089.mp3  twenties   male\n",
       "2441  common_voice_en_20029169.mp3  twenties   male\n",
       "2442  common_voice_en_20029171.mp3  twenties   male\n",
       "2443  common_voice_en_20029170.mp3  twenties   male\n",
       "\n",
       "[2096 rows x 3 columns]"
      ]
     },
     "execution_count": 8,
     "metadata": {},
     "output_type": "execute_result"
    }
   ],
   "source": [
    "male_test"
   ]
  },
  {
   "cell_type": "code",
   "execution_count": null,
   "metadata": {},
   "outputs": [],
   "source": [
    "paths = os.listdir('D:/data_en/en/en/en/clips')\n",
    "#копирую из общей папки изображения в директорию test/male \n",
    "for f in male_test[\"path\"].tolist():\n",
    "  if f in paths:\n",
    "    shutil.copy('D:/data_en/en/en/en/clips/' + f, 'D:/data_ready/test/gender/male/'+ f)"
   ]
  },
  {
   "cell_type": "code",
   "execution_count": null,
   "metadata": {},
   "outputs": [],
   "source": [
    "#теперь test >> train/female\n",
    "for f in female_test[\"path\"].tolist():\n",
    "  if f in paths:\n",
    "    shutil.copy('D:/data_en/en/en/en/clips/' + f, 'D:/data_ready/test/gender/female/'+ f)"
   ]
  },
  {
   "cell_type": "code",
   "execution_count": null,
   "metadata": {},
   "outputs": [],
   "source": [
    "# test >> fifties\n",
    "for f in male_fifties_test[\"path\"].tolist():\n",
    "  if f in paths:\n",
    "    shutil.copy('D:/data_en/en/en/en/clips/' + f, 'D:/data_ready/test/age/male_fifties/'+ f)"
   ]
  },
  {
   "cell_type": "code",
   "execution_count": null,
   "metadata": {},
   "outputs": [],
   "source": [
    "for f in female_fifties_test[\"path\"].tolist():\n",
    "  if f in paths:\n",
    "    shutil.copy('D:/data_en/en/en/en/clips/' + f, 'D:/data_ready/test/age/female_fifties/'+ f)"
   ]
  },
  {
   "cell_type": "code",
   "execution_count": null,
   "metadata": {},
   "outputs": [],
   "source": [
    "# test >> sixties\n",
    "for f in male_sixties_test[\"path\"].tolist():\n",
    "  if f in paths:\n",
    "    shutil.copy('D:/data_en/en/en/en/clips/' + f, 'D:/data_ready/test/age/male_sixties/'+ f)"
   ]
  },
  {
   "cell_type": "code",
   "execution_count": null,
   "metadata": {},
   "outputs": [],
   "source": [
    "for f in female_sixties_test[\"path\"].tolist():\n",
    "  if f in paths:\n",
    "    shutil.copy('D:/data_en/en/en/en/clips/' + f, 'D:/data_ready/test/age/female_sixties/'+ f)"
   ]
  },
  {
   "cell_type": "code",
   "execution_count": null,
   "metadata": {},
   "outputs": [],
   "source": [
    "# test >> thirties\n",
    "for f in male_thirties_test[\"path\"].tolist():\n",
    "  if f in paths:\n",
    "    shutil.copy('D:/data_en/en/en/en/clips/' + f, 'D:/data_ready/test/age/male_thirties/'+ f)"
   ]
  },
  {
   "cell_type": "code",
   "execution_count": null,
   "metadata": {},
   "outputs": [],
   "source": [
    "for f in female_thirties_test[\"path\"].tolist():\n",
    "  if f in paths:\n",
    "    shutil.copy('D:/data_en/en/en/en/clips/' + f, 'D:/data_ready/test/age/female_thirties/'+ f)"
   ]
  },
  {
   "cell_type": "code",
   "execution_count": null,
   "metadata": {},
   "outputs": [],
   "source": [
    "# test >> twenties\n",
    "for f in male_twenties_test[\"path\"].tolist():\n",
    "  if f in paths:\n",
    "    shutil.copy('D:/data_en/en/en/en/clips/' + f, 'D:/data_ready/test/age/male_twenties/'+ f)"
   ]
  },
  {
   "cell_type": "code",
   "execution_count": null,
   "metadata": {},
   "outputs": [],
   "source": [
    "for f in female_twenties_test[\"path\"].tolist():\n",
    "  if f in paths:\n",
    "    shutil.copy('D:/data_en/en/en/en/clips/' + f, 'D:/data_ready/test/age/female_twenties/'+ f)"
   ]
  },
  {
   "cell_type": "code",
   "execution_count": null,
   "metadata": {},
   "outputs": [],
   "source": [
    "# test >> teens\n",
    "for f in male_teens_test[\"path\"].tolist():\n",
    "  if f in paths:\n",
    "    shutil.copy('D:/data_en/en/en/en/clips/' + f, 'D:/data_ready/test/age/male_teens/'+ f)"
   ]
  },
  {
   "cell_type": "code",
   "execution_count": null,
   "metadata": {},
   "outputs": [],
   "source": [
    "for f in female_teens_test[\"path\"].tolist():\n",
    "  if f in paths:\n",
    "    shutil.copy('D:/data_en/en/en/en/clips/' + f, 'D:/data_ready/test/age/female_teens/'+ f)"
   ]
  },
  {
   "cell_type": "code",
   "execution_count": null,
   "metadata": {},
   "outputs": [],
   "source": [
    "# test >> fourties\n",
    "for f in male_fourties_test[\"path\"].tolist():\n",
    "  if f in paths:\n",
    "    shutil.copy('D:/data_en/en/en/en/clips/' + f, 'D:/data_ready/test/age/male_fourties/'+ f)"
   ]
  },
  {
   "cell_type": "code",
   "execution_count": null,
   "metadata": {},
   "outputs": [],
   "source": [
    "for f in female_fourties_test[\"path\"].tolist():\n",
    "  if f in paths:\n",
    "    shutil.copy('D:/data_en/en/en/en/clips/' + f, 'D:/data_ready/test/age/female_fourties/'+ f)"
   ]
  },
  {
   "cell_type": "code",
   "execution_count": null,
   "metadata": {},
   "outputs": [],
   "source": [
    "# test >> eighties\n",
    "for f in male_eighties_test[\"path\"].tolist():\n",
    "  if f in paths:\n",
    "    shutil.copy('D:/data_en/en/en/en/clips/' + f, 'D:/data_ready/test/age/male_eighties/'+ f)"
   ]
  },
  {
   "cell_type": "code",
   "execution_count": null,
   "metadata": {},
   "outputs": [],
   "source": [
    "for f in female_eighties_test[\"path\"].tolist():\n",
    "  if f in paths:\n",
    "    shutil.copy('D:/data_en/en/en/en/clips/' + f, 'D:/data_ready/test/age/female_eighties/'+ f)"
   ]
  },
  {
   "cell_type": "code",
   "execution_count": null,
   "metadata": {},
   "outputs": [],
   "source": [
    "# test >> seventies\n",
    "for f in male_seventies_test[\"path\"].tolist():\n",
    "  if f in paths:\n",
    "    shutil.copy('D:/data_en/en/en/en/clips/' + f, 'D:/data_ready/test/age/male_seventies/'+ f)"
   ]
  },
  {
   "cell_type": "code",
   "execution_count": null,
   "metadata": {},
   "outputs": [],
   "source": [
    "for f in female_seventies_test[\"path\"].tolist():\n",
    "  if f in paths:\n",
    "    shutil.copy('D:/data_en/en/en/en/clips/' + f, 'D:/data_ready/test/age/female_seventies/'+ f)"
   ]
  },
  {
   "cell_type": "code",
   "execution_count": null,
   "metadata": {},
   "outputs": [],
   "source": [
    "# test >> nineties\n",
    "for f in male_nineties_test[\"path\"].tolist():\n",
    "  if f in paths:\n",
    "    shutil.copy('D:/data_en/en/en/en/clips/' + f, 'D:/data_ready/test/age/male_nineties/'+ f)"
   ]
  },
  {
   "cell_type": "code",
   "execution_count": null,
   "metadata": {},
   "outputs": [],
   "source": [
    "for f in female_nineties_test[\"path\"].tolist():\n",
    "  if f in paths:\n",
    "    shutil.copy('D:/data_en/en/en/en/clips/' + f, 'D:/data_ready/test/age/female_nineties/'+ f)"
   ]
  },
  {
   "cell_type": "code",
   "execution_count": 9,
   "metadata": {},
   "outputs": [],
   "source": [
    "#Читаю val файл  \n",
    "val = pd.read_csv(r'D:/data_en/val_en.csv',  sep=\"\\t\", encoding=\"utf-8\")"
   ]
  },
  {
   "cell_type": "code",
   "execution_count": 10,
   "metadata": {},
   "outputs": [
    {
     "data": {
      "text/html": [
       "<div>\n",
       "<style scoped>\n",
       "    .dataframe tbody tr th:only-of-type {\n",
       "        vertical-align: middle;\n",
       "    }\n",
       "\n",
       "    .dataframe tbody tr th {\n",
       "        vertical-align: top;\n",
       "    }\n",
       "\n",
       "    .dataframe thead th {\n",
       "        text-align: right;\n",
       "    }\n",
       "</style>\n",
       "<table border=\"1\" class=\"dataframe\">\n",
       "  <thead>\n",
       "    <tr style=\"text-align: right;\">\n",
       "      <th></th>\n",
       "      <th>path</th>\n",
       "      <th>age</th>\n",
       "      <th>gender</th>\n",
       "    </tr>\n",
       "  </thead>\n",
       "  <tbody>\n",
       "    <tr>\n",
       "      <th>0</th>\n",
       "      <td>common_voice_en_21102148.mp3</td>\n",
       "      <td>teens</td>\n",
       "      <td>male</td>\n",
       "    </tr>\n",
       "    <tr>\n",
       "      <th>1</th>\n",
       "      <td>common_voice_en_21102151.mp3</td>\n",
       "      <td>teens</td>\n",
       "      <td>male</td>\n",
       "    </tr>\n",
       "    <tr>\n",
       "      <th>2</th>\n",
       "      <td>common_voice_en_21102150.mp3</td>\n",
       "      <td>teens</td>\n",
       "      <td>male</td>\n",
       "    </tr>\n",
       "    <tr>\n",
       "      <th>3</th>\n",
       "      <td>common_voice_en_21102149.mp3</td>\n",
       "      <td>teens</td>\n",
       "      <td>male</td>\n",
       "    </tr>\n",
       "    <tr>\n",
       "      <th>4</th>\n",
       "      <td>common_voice_en_20223194.mp3</td>\n",
       "      <td>twenties</td>\n",
       "      <td>female</td>\n",
       "    </tr>\n",
       "    <tr>\n",
       "      <th>...</th>\n",
       "      <td>...</td>\n",
       "      <td>...</td>\n",
       "      <td>...</td>\n",
       "    </tr>\n",
       "    <tr>\n",
       "      <th>322499</th>\n",
       "      <td>common_voice_en_22471323.mp3</td>\n",
       "      <td>fourties</td>\n",
       "      <td>male</td>\n",
       "    </tr>\n",
       "    <tr>\n",
       "      <th>322500</th>\n",
       "      <td>common_voice_en_22471330.mp3</td>\n",
       "      <td>fourties</td>\n",
       "      <td>male</td>\n",
       "    </tr>\n",
       "    <tr>\n",
       "      <th>322501</th>\n",
       "      <td>common_voice_en_22471338.mp3</td>\n",
       "      <td>fourties</td>\n",
       "      <td>male</td>\n",
       "    </tr>\n",
       "    <tr>\n",
       "      <th>322502</th>\n",
       "      <td>common_voice_en_22471341.mp3</td>\n",
       "      <td>fourties</td>\n",
       "      <td>male</td>\n",
       "    </tr>\n",
       "    <tr>\n",
       "      <th>322503</th>\n",
       "      <td>common_voice_en_22471360.mp3</td>\n",
       "      <td>fourties</td>\n",
       "      <td>male</td>\n",
       "    </tr>\n",
       "  </tbody>\n",
       "</table>\n",
       "<p>322504 rows × 3 columns</p>\n",
       "</div>"
      ],
      "text/plain": [
       "                                path       age  gender\n",
       "0       common_voice_en_21102148.mp3     teens    male\n",
       "1       common_voice_en_21102151.mp3     teens    male\n",
       "2       common_voice_en_21102150.mp3     teens    male\n",
       "3       common_voice_en_21102149.mp3     teens    male\n",
       "4       common_voice_en_20223194.mp3  twenties  female\n",
       "...                              ...       ...     ...\n",
       "322499  common_voice_en_22471323.mp3  fourties    male\n",
       "322500  common_voice_en_22471330.mp3  fourties    male\n",
       "322501  common_voice_en_22471338.mp3  fourties    male\n",
       "322502  common_voice_en_22471341.mp3  fourties    male\n",
       "322503  common_voice_en_22471360.mp3  fourties    male\n",
       "\n",
       "[322504 rows x 3 columns]"
      ]
     },
     "execution_count": 10,
     "metadata": {},
     "output_type": "execute_result"
    }
   ],
   "source": [
    "val"
   ]
  },
  {
   "cell_type": "code",
   "execution_count": 11,
   "metadata": {},
   "outputs": [
    {
     "data": {
      "text/plain": [
       "array(['teens', 'twenties', 'seventies', 'fifties', 'fourties',\n",
       "       'thirties', 'sixties', 'eighties', 'nineties'], dtype=object)"
      ]
     },
     "execution_count": 11,
     "metadata": {},
     "output_type": "execute_result"
    }
   ],
   "source": [
    "val[\"age\"].unique()"
   ]
  },
  {
   "cell_type": "code",
   "execution_count": 12,
   "metadata": {},
   "outputs": [
    {
     "data": {
      "text/html": [
       "<div>\n",
       "<style scoped>\n",
       "    .dataframe tbody tr th:only-of-type {\n",
       "        vertical-align: middle;\n",
       "    }\n",
       "\n",
       "    .dataframe tbody tr th {\n",
       "        vertical-align: top;\n",
       "    }\n",
       "\n",
       "    .dataframe thead th {\n",
       "        text-align: right;\n",
       "    }\n",
       "</style>\n",
       "<table border=\"1\" class=\"dataframe\">\n",
       "  <thead>\n",
       "    <tr style=\"text-align: right;\">\n",
       "      <th></th>\n",
       "      <th>path</th>\n",
       "      <th>age</th>\n",
       "      <th>gender</th>\n",
       "    </tr>\n",
       "  </thead>\n",
       "  <tbody>\n",
       "    <tr>\n",
       "      <th>64</th>\n",
       "      <td>common_voice_en_19732277.mp3</td>\n",
       "      <td>sixties</td>\n",
       "      <td>male</td>\n",
       "    </tr>\n",
       "    <tr>\n",
       "      <th>65</th>\n",
       "      <td>common_voice_en_19732280.mp3</td>\n",
       "      <td>sixties</td>\n",
       "      <td>male</td>\n",
       "    </tr>\n",
       "    <tr>\n",
       "      <th>66</th>\n",
       "      <td>common_voice_en_19732281.mp3</td>\n",
       "      <td>sixties</td>\n",
       "      <td>male</td>\n",
       "    </tr>\n",
       "    <tr>\n",
       "      <th>67</th>\n",
       "      <td>common_voice_en_19732278.mp3</td>\n",
       "      <td>sixties</td>\n",
       "      <td>male</td>\n",
       "    </tr>\n",
       "    <tr>\n",
       "      <th>458</th>\n",
       "      <td>common_voice_en_19724475.mp3</td>\n",
       "      <td>sixties</td>\n",
       "      <td>male</td>\n",
       "    </tr>\n",
       "    <tr>\n",
       "      <th>...</th>\n",
       "      <td>...</td>\n",
       "      <td>...</td>\n",
       "      <td>...</td>\n",
       "    </tr>\n",
       "    <tr>\n",
       "      <th>290566</th>\n",
       "      <td>common_voice_en_21765420.mp3</td>\n",
       "      <td>sixties</td>\n",
       "      <td>male</td>\n",
       "    </tr>\n",
       "    <tr>\n",
       "      <th>290567</th>\n",
       "      <td>common_voice_en_21765419.mp3</td>\n",
       "      <td>sixties</td>\n",
       "      <td>male</td>\n",
       "    </tr>\n",
       "    <tr>\n",
       "      <th>290568</th>\n",
       "      <td>common_voice_en_21765417.mp3</td>\n",
       "      <td>sixties</td>\n",
       "      <td>male</td>\n",
       "    </tr>\n",
       "    <tr>\n",
       "      <th>290569</th>\n",
       "      <td>common_voice_en_21765421.mp3</td>\n",
       "      <td>sixties</td>\n",
       "      <td>male</td>\n",
       "    </tr>\n",
       "    <tr>\n",
       "      <th>290570</th>\n",
       "      <td>common_voice_en_21765411.mp3</td>\n",
       "      <td>sixties</td>\n",
       "      <td>male</td>\n",
       "    </tr>\n",
       "  </tbody>\n",
       "</table>\n",
       "<p>19782 rows × 3 columns</p>\n",
       "</div>"
      ],
      "text/plain": [
       "                                path      age gender\n",
       "64      common_voice_en_19732277.mp3  sixties   male\n",
       "65      common_voice_en_19732280.mp3  sixties   male\n",
       "66      common_voice_en_19732281.mp3  sixties   male\n",
       "67      common_voice_en_19732278.mp3  sixties   male\n",
       "458     common_voice_en_19724475.mp3  sixties   male\n",
       "...                              ...      ...    ...\n",
       "290566  common_voice_en_21765420.mp3  sixties   male\n",
       "290567  common_voice_en_21765419.mp3  sixties   male\n",
       "290568  common_voice_en_21765417.mp3  sixties   male\n",
       "290569  common_voice_en_21765421.mp3  sixties   male\n",
       "290570  common_voice_en_21765411.mp3  sixties   male\n",
       "\n",
       "[19782 rows x 3 columns]"
      ]
     },
     "execution_count": 12,
     "metadata": {},
     "output_type": "execute_result"
    }
   ],
   "source": [
    "val_labels=val[[\"path\", \"age\", \"gender\"]]\n",
    "\n",
    "\n",
    "male_val = val_labels[val_labels[\"gender\"]==\"male\"] \n",
    "#выбираю файлы в val.csv, которые имеют gender == female\n",
    "female_val  = val_labels[val_labels[\"gender\"]==\"female\"]\n",
    "\n",
    "#выбираю файлы вида male/fifties и female/fifties \n",
    "female_fifties_val  = female_val [female_val [\"age\"]==\"fifties\"] \n",
    "male_fifties_val  = male_val[male_val [\"age\"]==\"fifties\"]\n",
    "\n",
    "male_sixties_val  = male_val [male_val [\"age\"]==\"sixties\"]\n",
    "female_sixties_val  = female_val[female_val [\"age\"]==\"sixties\"]\n",
    "\n",
    "female_thirties_val  = female_val [female_val [\"age\"]==\"thirties\"]\n",
    "male_thirties_val  = male_val[male_val[\"age\"]==\"thirties\"]\n",
    "\n",
    "female_twenties_val  = female_val [female_val [\"age\"]==\"twenties\"]\n",
    "male_twenties_val  = male_val[male_val [\"age\"]==\"twenties\"]\n",
    "\n",
    "female_teens_val  = female_val[female_val [\"age\"]==\"teens\"]\n",
    "male_teens_val = male_val[male_val [\"age\"]==\"teens\"]\n",
    "\n",
    "female_fourties_val  = female_val [female_val [\"age\"]==\"fourties\"]\n",
    "male_fourties_val = male_val [male_val [\"age\"]==\"fourties\"]\n",
    "\n",
    "female_seventies_val = female_val[female_val[\"age\"]==\"seventies\"]\n",
    "male_seventies_val = male_val[male_val[\"age\"]==\"seventies\"]\n",
    "\n",
    "female_eighties_val = female_val[female_val[\"age\"]==\"eighties\"]\n",
    "male_eighties_val = male_val[male_val[\"age\"]==\"eighties\"]\n",
    "\n",
    "female_nineties_val = female_val[female_val[\"age\"]==\"nineties\"]\n",
    "male_nineties_val = male_val[male_val[\"age\"]==\"nineties\"]\n",
    "\n",
    "male_sixties_val"
   ]
  },
  {
   "cell_type": "code",
   "execution_count": null,
   "metadata": {},
   "outputs": [],
   "source": [
    "paths = os.listdir('D:/data_en/en/en/en/clips')\n",
    "#копирую из общей папки изображения в директорию val/male \n",
    "for f in male_val[\"path\"].tolist():\n",
    "  if f in paths:\n",
    "    shutil.copy('D:/data_en/en/en/en/clips/' + f, 'D:/data_ready/val/gender/male/'+ f)"
   ]
  },
  {
   "cell_type": "code",
   "execution_count": null,
   "metadata": {},
   "outputs": [],
   "source": [
    "#теперь val >> val/female\n",
    "for f in female_val[\"path\"].tolist():\n",
    "  if f in paths:\n",
    "    shutil.copy('D:/data_en/en/en/en/clips/' + f, 'D:/data_ready/val/gender/female/'+ f)"
   ]
  },
  {
   "cell_type": "code",
   "execution_count": null,
   "metadata": {},
   "outputs": [],
   "source": [
    "# val >> fifties\n",
    "for f in male_fifties_val[\"path\"].tolist():\n",
    "  if f in paths:\n",
    "    shutil.copy('D:/data_en/en/en/en/clips/' + f, 'D:/data_ready/val/age/male_fifties/'+ f)"
   ]
  },
  {
   "cell_type": "code",
   "execution_count": null,
   "metadata": {},
   "outputs": [],
   "source": [
    "for f in female_fifties_val[\"path\"].tolist():\n",
    "  if f in paths:\n",
    "    shutil.copy('D:/data_en/en/en/en/clips/' + f, 'D:/data_ready/val/age/female_fifties/'+ f)"
   ]
  },
  {
   "cell_type": "code",
   "execution_count": null,
   "metadata": {},
   "outputs": [],
   "source": [
    "# val >> sixties\n",
    "for f in male_sixties_val[\"path\"].tolist():\n",
    "  if f in paths:\n",
    "    shutil.copy('D:/data_en/en/en/en/clips/' + f, 'D:/data_ready/val/age/male_sixties/'+ f)"
   ]
  },
  {
   "cell_type": "code",
   "execution_count": null,
   "metadata": {},
   "outputs": [],
   "source": [
    "for f in female_sixties_val[\"path\"].tolist():\n",
    "  if f in paths:\n",
    "    shutil.copy('D:/data_en/en/en/en/clips/' + f, 'D:/data_ready/val/age/female_sixties/'+ f)"
   ]
  },
  {
   "cell_type": "code",
   "execution_count": null,
   "metadata": {},
   "outputs": [],
   "source": [
    "# val >> thirties\n",
    "for f in male_thirties_val[\"path\"].tolist():\n",
    "  if f in paths:\n",
    "    shutil.copy('D:/data_en/en/en/en/clips/' + f, 'D:/data_ready/val/age/male_thirties/'+ f)"
   ]
  },
  {
   "cell_type": "code",
   "execution_count": null,
   "metadata": {},
   "outputs": [],
   "source": [
    "for f in female_thirties_val[\"path\"].tolist():\n",
    "  if f in paths:\n",
    "    shutil.copy('D:/data_en/en/en/en/clips/' + f, 'D:/data_ready/val/age/female_thirties/'+ f)"
   ]
  },
  {
   "cell_type": "code",
   "execution_count": null,
   "metadata": {},
   "outputs": [],
   "source": [
    "# val >> twenties\n",
    "for f in male_twenties_val[\"path\"].tolist():\n",
    "  if f in paths:\n",
    "    shutil.copy('D:/data_en/en/en/en/clips/' + f, 'D:/data_ready/val/age/male_twenties/'+ f)"
   ]
  },
  {
   "cell_type": "code",
   "execution_count": null,
   "metadata": {},
   "outputs": [],
   "source": [
    "for f in female_twenties_val[\"path\"].tolist():\n",
    "  if f in paths:\n",
    "    shutil.copy('D:/data_en/en/en/en/clips/' + f, 'D:/data_ready/val/age/female_twenties/'+ f)"
   ]
  },
  {
   "cell_type": "code",
   "execution_count": null,
   "metadata": {},
   "outputs": [],
   "source": [
    "# val >> teens\n",
    "for f in male_teens_val[\"path\"].tolist():\n",
    "  if f in paths:\n",
    "    shutil.copy('D:/data_en/en/en/en/clips/' + f, 'D:/data_ready/val/age/male_teens/'+ f)"
   ]
  },
  {
   "cell_type": "code",
   "execution_count": null,
   "metadata": {},
   "outputs": [],
   "source": [
    "for f in female_teens_val[\"path\"].tolist():\n",
    "  if f in paths:\n",
    "    shutil.copy('D:/data_en/en/en/en/clips/' + f, 'D:/data_ready/val/age/female_teens/'+ f)"
   ]
  },
  {
   "cell_type": "code",
   "execution_count": null,
   "metadata": {},
   "outputs": [],
   "source": [
    "# val >> fourties\n",
    "for f in male_fourties_val[\"path\"].tolist():\n",
    "  if f in paths:\n",
    "    shutil.copy('D:/data_en/en/en/en/clips/' + f, 'D:/data_ready/val/age/male_fourties/'+ f)"
   ]
  },
  {
   "cell_type": "code",
   "execution_count": null,
   "metadata": {},
   "outputs": [],
   "source": [
    "for f in female_fourties_val[\"path\"].tolist():\n",
    "  if f in paths:\n",
    "    shutil.copy('D:/data_en/en/en/en/clips/' + f, 'D:/data_ready/val/age/female_fourties/'+ f)"
   ]
  },
  {
   "cell_type": "code",
   "execution_count": null,
   "metadata": {},
   "outputs": [],
   "source": [
    "# val >> eighties\n",
    "for f in male_eighties_val[\"path\"].tolist():\n",
    "  if f in paths:\n",
    "    shutil.copy('D:/data_en/en/en/en/clips/' + f, 'D:/data_ready/val/age/male_eighties/'+ f)"
   ]
  },
  {
   "cell_type": "code",
   "execution_count": null,
   "metadata": {},
   "outputs": [],
   "source": [
    "for f in female_eighties_val[\"path\"].tolist():\n",
    "  if f in paths:\n",
    "    shutil.copy('D:/data_en/en/en/en/clips/' + f, 'D:/data_ready/val/age/female_eighties/'+ f)"
   ]
  },
  {
   "cell_type": "code",
   "execution_count": null,
   "metadata": {},
   "outputs": [],
   "source": [
    "# val >> seventies\n",
    "for f in male_seventies_val[\"path\"].tolist():\n",
    "  if f in paths:\n",
    "    shutil.copy('D:/data_en/en/en/en/clips/' + f, 'D:/data_ready/val/age/male_seventies/'+ f)"
   ]
  },
  {
   "cell_type": "code",
   "execution_count": null,
   "metadata": {},
   "outputs": [],
   "source": [
    "for f in female_seventies_val[\"path\"].tolist():\n",
    "  if f in paths:\n",
    "    shutil.copy('D:/data_en/en/en/en/clips/' + f, 'D:/data_ready/val/age/female_seventies/'+ f)"
   ]
  },
  {
   "cell_type": "code",
   "execution_count": null,
   "metadata": {},
   "outputs": [],
   "source": [
    "# val >> nineties\n",
    "for f in male_nineties_val[\"path\"].tolist():\n",
    "  if f in paths:\n",
    "    shutil.copy('D:/data_en/en/en/en/clips/' + f, 'D:/data_ready/val/age/male_nineties/'+ f)"
   ]
  },
  {
   "cell_type": "code",
   "execution_count": null,
   "metadata": {},
   "outputs": [],
   "source": [
    "for f in female_nineties_val[\"path\"].tolist():\n",
    "  if f in paths:\n",
    "    shutil.copy('D:/data_en/en/en/en/clips/' + f, 'D:/data_ready/val/age/female_nineties/'+ f)"
   ]
  }
 ],
 "metadata": {
  "kernelspec": {
   "display_name": "Python 3",
   "language": "python",
   "name": "python3"
  },
  "language_info": {
   "codemirror_mode": {
    "name": "ipython",
    "version": 3
   },
   "file_extension": ".py",
   "mimetype": "text/x-python",
   "name": "python",
   "nbconvert_exporter": "python",
   "pygments_lexer": "ipython3",
   "version": "3.7.9"
  }
 },
 "nbformat": 4,
 "nbformat_minor": 4
}
