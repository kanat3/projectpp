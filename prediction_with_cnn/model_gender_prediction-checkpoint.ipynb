{
 "cells": [
  {
   "cell_type": "code",
   "execution_count": 18,
   "metadata": {},
   "outputs": [],
   "source": [
    "import numpy as np\n",
    "import tensorflow as tf\n",
    "from tensorflow import keras\n",
    "from tensorflow.keras.models import Sequential\n",
    "from tensorflow.keras.preprocessing.image import ImageDataGenerator\n",
    "from tensorflow.keras.layers import Conv2D, MaxPooling2D\n",
    "from tensorflow.keras import regularizers, optimizers\n",
    "from tensorflow.keras.layers import Dense, Activation, Flatten, Dropout, BatchNormalization\n",
    "from tensorflow.keras.models import Sequential, Model\n",
    "from tensorflow.keras.models import load_model"
   ]
  },
  {
   "cell_type": "code",
   "execution_count": 7,
   "metadata": {},
   "outputs": [
    {
     "name": "stdout",
     "output_type": "stream",
     "text": [
      "Found 63675 files belonging to 2 classes.\n",
      "Found 4383 files belonging to 2 classes.\n",
      "Found 13240 files belonging to 2 classes.\n"
     ]
    }
   ],
   "source": [
    "img_height = 288\n",
    "img_width = 432\n",
    "batch_size = 128 # количество тренировочных изображений для обработки перед обновлением параметров модели\n",
    "#читаем rgb файлы из каталога, присваиваем бинарные метки для датасета из male (1) и female (0)\n",
    "#shuffle = True перетасовывает датасет\n",
    "# seed - \"опциональное случайное семя для перетасовки и преобразований\"\n",
    "#image_from_directory дает кортеж (images, labels), \n",
    "#где images имеет форму (batch_size, image_size[0], image_size[1], num_channels)\n",
    "train_generator = tf.keras.preprocessing.image_dataset_from_directory('D:/train/gender',\n",
    "                     labels = 'inferred', label_mode = 'binary', color_mode = 'rgb',\n",
    "                     batch_size = batch_size, image_size = (img_height, img_width),\n",
    "                     shuffle = True\n",
    ")\n",
    "val_generator = tf.keras.preprocessing.image_dataset_from_directory('D:/val/gender',\n",
    "                     labels = 'inferred', label_mode = 'binary', color_mode = 'rgb',\n",
    "                     batch_size = batch_size, image_size = (img_height, img_width),\n",
    "                     shuffle = True\n",
    ")\n",
    "\n",
    "test_generator = tf.keras.preprocessing.image_dataset_from_directory('D:/test/gender',\n",
    "                     labels = 'inferred', label_mode = 'binary', color_mode = 'rgb',\n",
    "                     batch_size = batch_size, image_size = (img_height, img_width),\n",
    "                     shuffle = True\n",
    ")"
   ]
  },
  {
   "cell_type": "code",
   "execution_count": 17,
   "metadata": {},
   "outputs": [],
   "source": [
    "import os\n",
    "checkpoint_path = r\"C:\\Users\\localadmin\\model_\\gender\\gender3.ckpt\"\n",
    "checkpoint_dir = os.path.dirname(checkpoint_path)\n",
    "\n",
    "# Создаем коллбек сохраняющий веса модели\n",
    "cp_callback = tf.keras.callbacks.ModelCheckpoint(filepath=checkpoint_path,\n",
    "                                                 save_weights_only=True,\n",
    "                                                 verbose=1)\n",
    "#Это создаст единый набор файлов контрольных точек TensorFlow который обновляется в конце каждой эпохи"
   ]
  },
  {
   "cell_type": "code",
   "execution_count": 23,
   "metadata": {},
   "outputs": [],
   "source": [
    "# Tensorboard\n",
    "def model_gender():\n",
    "    model = Sequential()\n",
    "\n",
    "# 3X3X32 filters, RGB 64x64 input image.\n",
    "    model.add(Conv2D(filters=3, kernel_size=(3, 3), input_shape=(288, 432, 3), activation='relu')) \n",
    "    model.add(MaxPooling2D(pool_size=(2, 2)))\n",
    "\n",
    "    model.add(Conv2D(filters=16, kernel_size=(3, 3), activation='relu')) \n",
    "    model.add(MaxPooling2D(pool_size=(2, 2)))\n",
    "\n",
    "    model.add(Conv2D(filters=32, kernel_size=(3, 3), activation='relu')) \n",
    "    model.add(MaxPooling2D(pool_size=(2, 2)))\n",
    "\n",
    "    model.add(Conv2D(filters=64, kernel_size=(3, 3), activation='relu')) \n",
    "    model.add(MaxPooling2D(pool_size=(2, 2)))\n",
    "\n",
    "    model.add(Conv2D(filters=128, kernel_size=(2, 2), activation='relu')) \n",
    "    model.add(MaxPooling2D(pool_size=(2, 2)))\n",
    "\n",
    "    model.add(Conv2D(filters=128, kernel_size=(2, 2), activation='relu')) \n",
    "    model.add(MaxPooling2D(pool_size=(2, 2)))\n",
    "\n",
    "    model.add(Flatten()) #Fully Connected Layer\n",
    "    model.add(Dense(256, activation='relu'))\n",
    "    \n",
    "    model.add(Dense(128, activation='relu'))\n",
    "\n",
    "    model.add(Dense(64, activation='relu')) #Fully Connected Layer\n",
    "    \n",
    "    model.add(Dense(32, activation='relu'))\n",
    "    \n",
    "    model.add(Dense(16, activation='relu'))\n",
    "    \n",
    "    model.add(Dense(8, activation='relu'))\n",
    "    \n",
    "    model.add(Dense(1, activation='softmax'))\n",
    "\n",
    "    model.compile(loss='binary_crossentropy', optimizer=tf.keras.optimizers.SGD(learning_rate=0.01), metrics=['accuracy'])\n",
    "    return model"
   ]
  },
  {
   "cell_type": "code",
   "execution_count": 24,
   "metadata": {},
   "outputs": [
    {
     "name": "stdout",
     "output_type": "stream",
     "text": [
      "Model: \"sequential_6\"\n",
      "_________________________________________________________________\n",
      "Layer (type)                 Output Shape              Param #   \n",
      "=================================================================\n",
      "conv2d_36 (Conv2D)           (None, 286, 430, 3)       84        \n",
      "_________________________________________________________________\n",
      "max_pooling2d_36 (MaxPooling (None, 143, 215, 3)       0         \n",
      "_________________________________________________________________\n",
      "conv2d_37 (Conv2D)           (None, 141, 213, 16)      448       \n",
      "_________________________________________________________________\n",
      "max_pooling2d_37 (MaxPooling (None, 70, 106, 16)       0         \n",
      "_________________________________________________________________\n",
      "conv2d_38 (Conv2D)           (None, 68, 104, 32)       4640      \n",
      "_________________________________________________________________\n",
      "max_pooling2d_38 (MaxPooling (None, 34, 52, 32)        0         \n",
      "_________________________________________________________________\n",
      "conv2d_39 (Conv2D)           (None, 32, 50, 64)        18496     \n",
      "_________________________________________________________________\n",
      "max_pooling2d_39 (MaxPooling (None, 16, 25, 64)        0         \n",
      "_________________________________________________________________\n",
      "conv2d_40 (Conv2D)           (None, 15, 24, 128)       32896     \n",
      "_________________________________________________________________\n",
      "max_pooling2d_40 (MaxPooling (None, 7, 12, 128)        0         \n",
      "_________________________________________________________________\n",
      "conv2d_41 (Conv2D)           (None, 6, 11, 128)        65664     \n",
      "_________________________________________________________________\n",
      "max_pooling2d_41 (MaxPooling (None, 3, 5, 128)         0         \n",
      "_________________________________________________________________\n",
      "flatten_6 (Flatten)          (None, 1920)              0         \n",
      "_________________________________________________________________\n",
      "dense_11 (Dense)             (None, 256)               491776    \n",
      "_________________________________________________________________\n",
      "dense_12 (Dense)             (None, 128)               32896     \n",
      "_________________________________________________________________\n",
      "dense_13 (Dense)             (None, 64)                8256      \n",
      "_________________________________________________________________\n",
      "dense_14 (Dense)             (None, 32)                2080      \n",
      "_________________________________________________________________\n",
      "dense_15 (Dense)             (None, 16)                528       \n",
      "_________________________________________________________________\n",
      "dense_16 (Dense)             (None, 8)                 136       \n",
      "_________________________________________________________________\n",
      "dense_17 (Dense)             (None, 1)                 9         \n",
      "=================================================================\n",
      "Total params: 657,909\n",
      "Trainable params: 657,909\n",
      "Non-trainable params: 0\n",
      "_________________________________________________________________\n"
     ]
    }
   ],
   "source": [
    "model = model_gender()\n",
    "model.summary()"
   ]
  },
  {
   "cell_type": "code",
   "execution_count": 25,
   "metadata": {},
   "outputs": [
    {
     "name": "stdout",
     "output_type": "stream",
     "text": [
      "Epoch 1/5\n",
      "498/498 [==============================] - ETA: 0s - loss: 3.0752 - accuracy: 0.7983\n",
      "Epoch 00001: saving model to C:\\Users\\localadmin\\model_\\gender\\gender3.ckpt\n",
      "498/498 [==============================] - 4137s 8s/step - loss: 3.0752 - accuracy: 0.7983 - val_loss: 1.8196 - val_accuracy: 0.8807\n",
      "Epoch 2/5\n",
      "498/498 [==============================] - ETA: 0s - loss: 3.0752 - accuracy: 0.7983\n",
      "Epoch 00002: saving model to C:\\Users\\localadmin\\model_\\gender\\gender3.ckpt\n",
      "498/498 [==============================] - 3796s 8s/step - loss: 3.0752 - accuracy: 0.7983 - val_loss: 1.8196 - val_accuracy: 0.8807\n",
      "Epoch 3/5\n",
      "498/498 [==============================] - ETA: 0s - loss: 3.0752 - accuracy: 0.7983\n",
      "Epoch 00003: saving model to C:\\Users\\localadmin\\model_\\gender\\gender3.ckpt\n",
      "498/498 [==============================] - 3721s 7s/step - loss: 3.0752 - accuracy: 0.7983 - val_loss: 1.8196 - val_accuracy: 0.8807\n",
      "Epoch 4/5\n",
      "498/498 [==============================] - ETA: 0s - loss: 3.0752 - accuracy: 0.7983\n",
      "Epoch 00004: saving model to C:\\Users\\localadmin\\model_\\gender\\gender3.ckpt\n",
      "498/498 [==============================] - 3748s 8s/step - loss: 3.0752 - accuracy: 0.7983 - val_loss: 1.8196 - val_accuracy: 0.8807\n",
      "Epoch 5/5\n",
      "498/498 [==============================] - ETA: 0s - loss: 3.0752 - accuracy: 0.7983\n",
      "Epoch 00005: saving model to C:\\Users\\localadmin\\model_\\gender\\gender3.ckpt\n",
      "498/498 [==============================] - 3776s 8s/step - loss: 3.0752 - accuracy: 0.7983 - val_loss: 1.8196 - val_accuracy: 0.8807\n"
     ]
    }
   ],
   "source": [
    "history = model.fit(train_generator, batch_size = batch_size,\n",
    "                              validation_data=val_generator, verbose = 1, callbacks=[cp_callback],\n",
    "                              epochs=5)"
   ]
  },
  {
   "cell_type": "code",
   "execution_count": null,
   "metadata": {},
   "outputs": [],
   "source": [
    "ls {checkpoint_dir}"
   ]
  },
  {
   "cell_type": "code",
   "execution_count": 8,
   "metadata": {},
   "outputs": [
    {
     "name": "stdout",
     "output_type": "stream",
     "text": [
      "104/104 [==============================] - 523s 5s/step - loss: 1.9131 - accuracy: 0.8745\n",
      "Restored model, accuracy: 87.45%\n"
     ]
    }
   ],
   "source": [
    "loss,acc = model.evaluate(test_generator, verbose=1)\n",
    "print(\"Restored model, accuracy: {:5.2f}%\".format(100*acc))"
   ]
  },
  {
   "cell_type": "code",
   "execution_count": 11,
   "metadata": {},
   "outputs": [],
   "source": [
    "model1 = model_gender()"
   ]
  },
  {
   "cell_type": "code",
   "execution_count": 12,
   "metadata": {},
   "outputs": [
    {
     "data": {
      "text/plain": [
       "<tensorflow.python.training.tracking.util.CheckpointLoadStatus at 0x184e4161fc8>"
      ]
     },
     "execution_count": 12,
     "metadata": {},
     "output_type": "execute_result"
    }
   ],
   "source": [
    "model1.load_weights(checkpoint_path)"
   ]
  }
 ],
 "metadata": {
  "kernelspec": {
   "display_name": "Python 3",
   "language": "python",
   "name": "python3"
  },
  "language_info": {
   "codemirror_mode": {
    "name": "ipython",
    "version": 3
   },
   "file_extension": ".py",
   "mimetype": "text/x-python",
   "name": "python",
   "nbconvert_exporter": "python",
   "pygments_lexer": "ipython3",
   "version": "3.7.9"
  }
 },
 "nbformat": 4,
 "nbformat_minor": 4
}
